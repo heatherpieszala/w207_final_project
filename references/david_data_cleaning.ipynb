{
 "cells": [
  {
   "cell_type": "code",
   "execution_count": 1,
   "metadata": {},
   "outputs": [],
   "source": [
    "import pandas as pd\n",
    "import datetime\n",
    "import os\n",
    "import re\n",
    "import flair"
   ]
  },
  {
   "cell_type": "code",
   "execution_count": 2,
   "metadata": {},
   "outputs": [],
   "source": [
    "cd = os.getcwd()"
   ]
  },
  {
   "cell_type": "code",
   "execution_count": 3,
   "metadata": {},
   "outputs": [],
   "source": [
    "raw_data_directory_path = \"/\".join(cd.split(\"/\")[:-1]) + \"/data/raw/\"\n",
    "processed_data_directory_path = \"/\".join(cd.split(\"/\")[:-1]) + \"/data/processed/\""
   ]
  },
  {
   "cell_type": "code",
   "execution_count": 4,
   "metadata": {},
   "outputs": [],
   "source": [
    "company_df = pd.read_csv(raw_data_directory_path + \"stock_data/Company.csv\")\n",
    "company_values_df = pd.read_csv(raw_data_directory_path + \"stock_data/CompanyValues.csv\")\n",
    "\n",
    "company_tweet_df = pd.read_csv(raw_data_directory_path + \"tweet_data/Company_Tweet.csv\")\n",
    "company_t_df = pd.read_csv(raw_data_directory_path + \"tweet_data/Company.csv\")\n",
    "tweet_df = pd.read_csv(raw_data_directory_path + \"tweet_data/Tweet.csv\")\n",
    "\n",
    "full_tweet_df = pd.merge(company_tweet_df, tweet_df, on=\"tweet_id\")\n",
    "full_tweet_df = pd.merge(full_tweet_df, company_df, on=\"ticker_symbol\")\n",
    "full_tweet_df[\"post_date\"] = full_tweet_df[\"post_date\"].apply(lambda x: datetime.datetime.fromtimestamp(x).strftime('%Y-%m-%d %H:%M:%S'))"
   ]
  },
  {
   "cell_type": "code",
   "execution_count": 5,
   "metadata": {},
   "outputs": [],
   "source": [
    "# full_tweet_df.to_csv(processed_data_directory_path + \"processed_stock_tweet_data.csv\")"
   ]
  }
 ],
 "metadata": {
  "kernelspec": {
   "display_name": "Python 3",
   "language": "python",
   "name": "python3"
  },
  "language_info": {
   "codemirror_mode": {
    "name": "ipython",
    "version": 3
   },
   "file_extension": ".py",
   "mimetype": "text/x-python",
   "name": "python",
   "nbconvert_exporter": "python",
   "pygments_lexer": "ipython3",
   "version": "3.7.4"
  }
 },
 "nbformat": 4,
 "nbformat_minor": 2
}
