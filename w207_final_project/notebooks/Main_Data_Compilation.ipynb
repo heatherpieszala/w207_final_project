{
 "cells": [
  {
   "cell_type": "markdown",
   "metadata": {},
   "source": [
    "## Using Tweets to Predict Stock Prices: Data Joining, Cleaning, Sentiment Creation\n",
    "\n",
    "Can we predict if a stock will go up or down based on twitter sentiment from that day?\n",
    "\n",
    "This file joins datasets from twitter, from the stock index, and from the S&P 500."
   ]
  },
  {
   "cell_type": "markdown",
   "metadata": {},
   "source": [
    "<b>Import necessary libraries</b>"
   ]
  },
  {
   "cell_type": "code",
   "execution_count": 1,
   "metadata": {},
   "outputs": [],
   "source": [
    "import pandas as pd\n",
    "import datetime\n",
    "import missingno\n",
    "import os\n",
    "import matplotlib.pyplot as plt\n",
    "from pandas.plotting import scatter_matrix\n",
    "import pytz\n",
    "\n",
    "est = pytz.timezone('US/Eastern')\n",
    "utc = pytz.utc\n",
    "\n",
    "import pandas as pd\n",
    "import nltk\n",
    "from nltk.sentiment.vader import SentimentIntensityAnalyzer\n",
    "import datetime\n",
    "from datetime import timedelta\n",
    "\n",
    "from copy import deepcopy\n",
    "\n",
    "import pandas as pd\n",
    "import datetime\n",
    "import os\n",
    "import re\n",
    "import numpy as np\n",
    "import matplotlib.pyplot as plt\n",
    "import numpy as np\n",
    "import matplotlib.dates as mdates\n",
    "from textblob import TextBlob\n",
    "\n",
    "# Show entire column\n",
    "pd.set_option(\"display.max_colwidth\", -1)"
   ]
  },
  {
   "cell_type": "markdown",
   "metadata": {},
   "source": [
    "#### First, create the space to load datasets from either the operating system, or a user specified path"
   ]
  },
  {
   "cell_type": "code",
   "execution_count": 2,
   "metadata": {},
   "outputs": [],
   "source": [
    "#note for os structure\n",
    "cd = os.getcwd()\n",
    "raw_data_directory_path = \"/\".join(cd.split(\"/\")[:-1]) + \"/data/raw/\"\n",
    "processed_data_directory_path = \"/\".join(cd.split(\"/\")[:-1]) + \"/data/processed/\""
   ]
  },
  {
   "cell_type": "code",
   "execution_count": 3,
   "metadata": {},
   "outputs": [],
   "source": [
    "#or enter your appriate path/paths here if the above doesn't work, up to the data folder you put the \n",
    "#raw and processed data folders in\n",
    "                            #ENTER THE BEGINNING OF YOur PATH TO RAW AND PROCESSED HERE\n",
    "raw_data_directory_path = 'C:/Users/heath/Desktop/W207/w207_final_project/w207_final_project/data/raw/'\n",
    "processed_data_directory_path = 'C:/Users/heath/Desktop/W207/w207_final_project/w207_final_project/data/processed/'"
   ]
  },
  {
   "cell_type": "markdown",
   "metadata": {},
   "source": [
    "<b>Get and join tweet data.  Note that the tweet data files are too large to keep in the github repo. </b>\n",
    "For reference, the data can be found at the following locations:\n",
    "    "
   ]
  },
  {
   "cell_type": "code",
   "execution_count": 4,
   "metadata": {},
   "outputs": [
    {
     "name": "stdout",
     "output_type": "stream",
     "text": [
      "min tweet date: 2014-12-31 00:00:00\n"
     ]
    }
   ],
   "source": [
    "tweets = pd.read_csv(raw_data_directory_path+'tweet_data/Tweet.csv')\n",
    "company_tweets = pd.read_csv(raw_data_directory_path +'tweet_data/Company_Tweet.csv')\n",
    "company = pd.read_csv(raw_data_directory_path +'tweet_data/Company.csv')\n",
    "tweet_combo = pd.merge(tweets, company_tweets)\n",
    "tweet_combo = pd.merge(tweet_combo, company)\n",
    "tweet_combo.ticker_symbol.unique()\n",
    "\n",
    "#need to convert the tweet post date to date time and also account for stock prices being in est, so make tweets est\n",
    "tweet_combo.post_date = tweet_combo.post_date.apply(lambda x: datetime.datetime.fromtimestamp(x).astimezone(est).strftime('%Y-%m-%d'))\n",
    "tweet_combo.post_date = pd.to_datetime(tweet_combo.post_date, format='%Y-%m-%d')\n",
    "\n",
    "#check min tweet date\n",
    "print('min tweet date:', tweet_combo.post_date.min())"
   ]
  },
  {
   "cell_type": "markdown",
   "metadata": {},
   "source": [
    "<b>Get stock data for the companies we have tweets for, and the S&P 500 data for reference.  Build dataset with this data.</b>\n",
    "For reference, the data can be found in the following locations:"
   ]
  },
  {
   "cell_type": "code",
   "execution_count": 5,
   "metadata": {},
   "outputs": [
    {
     "name": "stdout",
     "output_type": "stream",
     "text": [
      "min stock date: 2015-01-01 00:00:00\n"
     ]
    }
   ],
   "source": [
    "companynasdaq = pd.read_csv(raw_data_directory_path + 'stock_data/Company.csv')\n",
    "company_val = pd.read_csv(raw_data_directory_path+'stock_data/CompanyValues.csv')\n",
    "company_val.day_date = pd.to_datetime(company_val.day_date,format='%Y-%m-%d %H:%M:%S')\n",
    "\n",
    "#we want to drop the duplicates and keep the max per day with hour min sec, and then convert back to just looking at the day.\n",
    "#keeping the day makes it easier to join the datasets on tweets that day compared to market close and adjustment per day\n",
    "company_val .sort_values(['day_date'], ascending=True, inplace=True)\n",
    "company_val = company_val.drop_duplicates(subset = ['day_date', 'ticker_symbol'], keep = 'last')\n",
    "\n",
    "#get stock data 2015 plus to match our tweet data dates\n",
    "company_val.day_date = pd.to_datetime(company_val.day_date,format='%Y-%m-%d')\n",
    "company_val = company_val.loc[company_val.day_date >= '2015-01-01']\n",
    "\n",
    "#check to make sure filter worked\n",
    "print('min stock date:', company_val.day_date.min())\n",
    "\n",
    "stock_prices = pd.merge(company_val, companynasdaq)\n",
    "stock_prices.sort_values(['day_date'], ascending=True, inplace=True)\n",
    "\n",
    "#create stock return % change from previous day\n",
    "stock_prices['return'] = stock_prices.groupby('ticker_symbol')['close_value'].pct_change()\n",
    "\n",
    "#'GOOG' and 'GOOGL' are actually two different stocks from Google Inc.\n",
    "#https://seekingalpha.com/article/4430928-which-google-stock-is-a-better-buy-goog-or-googl\n",
    "\n",
    "#still only want most recent value per day\n",
    "stock_prices = stock_prices.drop_duplicates(subset = ['day_date', 'ticker_symbol'], keep = 'last')\n",
    "\n",
    "tickers = list(stock_prices.ticker_symbol.unique())\n",
    "\n",
    "#S&P data\n",
    "sp500 = pd.read_csv(raw_data_directory_path+'stock_data/SP500_historical.csv')\n",
    "sp500.Date = pd.to_datetime(sp500.Date)\n",
    "sp500.sort_values(['Date'], ascending=True, inplace=True)\n",
    "sp500.columns = ['day_date', 'sp_open', 'sp_high', 'sp_low', 'sp_close']\n",
    "sp500['sp_pct_return'] = sp500['sp_close'].pct_change()\n",
    "spcols = ['day_date', 'sp_close', 'sp_pct_return']\n",
    "sp500 = sp500[spcols]\n",
    "\n",
    "#merge S&P with company stock prices\n",
    "stock_prices = pd.merge(stock_prices, sp500)"
   ]
  },
  {
   "cell_type": "markdown",
   "metadata": {},
   "source": [
    "<b>Join Final Datasets - Stock Data with S&P 500 and Tweet Data </b>"
   ]
  },
  {
   "cell_type": "code",
   "execution_count": 6,
   "metadata": {},
   "outputs": [
    {
     "name": "stdout",
     "output_type": "stream",
     "text": [
      "Initial length of tweet data 4336445\n",
      "Rows dropped when merging stock data and S&P data: 631024\n"
     ]
    }
   ],
   "source": [
    "#join on date and ticker symbol to get the stock price for the company for the date of the post\n",
    "final_df = pd.merge(tweet_combo, stock_prices, left_on = ['post_date', 'ticker_symbol'], right_on = ['day_date', 'ticker_symbol'])\n",
    "final_df = final_df.rename(columns = {'company_name_x': 'company_name'})\n",
    "final_df = final_df.drop(['company_name_y'], axis=1)\n",
    "\n",
    "#export cleaned data to csv as needed:\n",
    "#final_df.to_csv(processed_data_directory_path+'cleaned_data.csv')\n",
    "\n",
    "print('Initial length of tweet data', len(tweet_combo))\n",
    "print('Rows dropped when merging stock data and S&P data:', len(tweet_combo) - len(final_df))\n",
    "\n",
    "#note that cleaned data features include:\n",
    "    #joining tweet datasets on tweet IDs and then to stock data on post date (tweet data) and day date (stock data) and ticker symbol\n",
    "    #making return per stock (percent change from previous day) - make over week for final dataset\n",
    "    #converting datetimes and considerations for est\n",
    "    #keeping stock data greater than 2015 to match our tweet data\n",
    "    #acsending date sorting\n",
    "    #added S&P 500 data - close value and percent change from previous day"
   ]
  },
  {
   "cell_type": "markdown",
   "metadata": {},
   "source": [
    "<b>Data Exploration ..</b>"
   ]
  },
  {
   "cell_type": "code",
   "execution_count": 7,
   "metadata": {},
   "outputs": [
    {
     "data": {
      "text/plain": [
       "<matplotlib.axes._subplots.AxesSubplot at 0x16a1505e2c8>"
      ]
     },
     "execution_count": 7,
     "metadata": {},
     "output_type": "execute_result"
    },
    {
     "data": {
      "image/png": "[encoded data removed]",
      "text/plain": [
       "<Figure size 720x360 with 2 Axes>"
      ]
     },
     "metadata": {
      "needs_background": "light"
     },
     "output_type": "display_data"
    }
   ],
   "source": [
    "#produces a nice heat style of missing data - I would say we don't really have missing data in the final df\n",
    "missingno.matrix(final_df,figsize=(10,5), fontsize=12)"
   ]
  },
  {
   "cell_type": "code",
   "execution_count": 8,
   "metadata": {},
   "outputs": [
    {
     "data": {
      "text/html": [
       "<div>\n",
       "<style scoped>\n",
       "    .dataframe tbody tr th:only-of-type {\n",
       "        vertical-align: middle;\n",
       "    }\n",
       "\n",
       "    .dataframe tbody tr th {\n",
       "        vertical-align: top;\n",
       "    }\n",
       "\n",
       "    .dataframe thead th {\n",
       "        text-align: right;\n",
       "    }\n",
       "</style>\n",
       "<table border=\"1\" class=\"dataframe\">\n",
       "  <thead>\n",
       "    <tr style=\"text-align: right;\">\n",
       "      <th></th>\n",
       "      <th>tweet_id</th>\n",
       "      <th>comment_num</th>\n",
       "      <th>retweet_num</th>\n",
       "      <th>like_num</th>\n",
       "      <th>close_value</th>\n",
       "      <th>volume</th>\n",
       "      <th>open_value</th>\n",
       "      <th>high_value</th>\n",
       "      <th>low_value</th>\n",
       "      <th>return</th>\n",
       "      <th>sp_close</th>\n",
       "      <th>sp_pct_return</th>\n",
       "    </tr>\n",
       "  </thead>\n",
       "  <tbody>\n",
       "    <tr>\n",
       "      <td>count</td>\n",
       "      <td>3.705421e+06</td>\n",
       "      <td>3.705421e+06</td>\n",
       "      <td>3.705421e+06</td>\n",
       "      <td>3.705421e+06</td>\n",
       "      <td>3.705421e+06</td>\n",
       "      <td>3.705421e+06</td>\n",
       "      <td>3.705421e+06</td>\n",
       "      <td>3.705421e+06</td>\n",
       "      <td>3.705421e+06</td>\n",
       "      <td>3.705421e+06</td>\n",
       "      <td>3.705421e+06</td>\n",
       "      <td>3.703729e+06</td>\n",
       "    </tr>\n",
       "    <tr>\n",
       "      <td>mean</td>\n",
       "      <td>8.825025e+17</td>\n",
       "      <td>2.869946e-01</td>\n",
       "      <td>6.177506e-01</td>\n",
       "      <td>2.027946e+00</td>\n",
       "      <td>4.601062e+02</td>\n",
       "      <td>2.035185e+07</td>\n",
       "      <td>4.600215e+02</td>\n",
       "      <td>4.651276e+02</td>\n",
       "      <td>4.545439e+02</td>\n",
       "      <td>1.243132e-03</td>\n",
       "      <td>2.451504e+03</td>\n",
       "      <td>2.834690e-04</td>\n",
       "    </tr>\n",
       "    <tr>\n",
       "      <td>std</td>\n",
       "      <td>1.925688e+17</td>\n",
       "      <td>1.868682e+00</td>\n",
       "      <td>7.045150e+00</td>\n",
       "      <td>1.339141e+01</td>\n",
       "      <td>4.657105e+02</td>\n",
       "      <td>2.263473e+07</td>\n",
       "      <td>4.657048e+02</td>\n",
       "      <td>4.700767e+02</td>\n",
       "      <td>4.607222e+02</td>\n",
       "      <td>2.608636e-02</td>\n",
       "      <td>3.605926e+02</td>\n",
       "      <td>8.613595e-03</td>\n",
       "    </tr>\n",
       "    <tr>\n",
       "      <td>min</td>\n",
       "      <td>5.508798e+17</td>\n",
       "      <td>0.000000e+00</td>\n",
       "      <td>0.000000e+00</td>\n",
       "      <td>0.000000e+00</td>\n",
       "      <td>4.029000e+01</td>\n",
       "      <td>3.475180e+05</td>\n",
       "      <td>4.034000e+01</td>\n",
       "      <td>4.074000e+01</td>\n",
       "      <td>3.972000e+01</td>\n",
       "      <td>-1.390153e-01</td>\n",
       "      <td>1.829080e+03</td>\n",
       "      <td>-4.097924e-02</td>\n",
       "    </tr>\n",
       "    <tr>\n",
       "      <td>25%</td>\n",
       "      <td>7.195717e+17</td>\n",
       "      <td>0.000000e+00</td>\n",
       "      <td>0.000000e+00</td>\n",
       "      <td>0.000000e+00</td>\n",
       "      <td>1.287000e+02</td>\n",
       "      <td>3.769453e+06</td>\n",
       "      <td>1.285800e+02</td>\n",
       "      <td>1.296200e+02</td>\n",
       "      <td>1.278500e+02</td>\n",
       "      <td>-8.679704e-03</td>\n",
       "      <td>2.102150e+03</td>\n",
       "      <td>-2.986777e-03</td>\n",
       "    </tr>\n",
       "    <tr>\n",
       "      <td>50%</td>\n",
       "      <td>8.793614e+17</td>\n",
       "      <td>0.000000e+00</td>\n",
       "      <td>0.000000e+00</td>\n",
       "      <td>0.000000e+00</td>\n",
       "      <td>2.550100e+02</td>\n",
       "      <td>1.036460e+07</td>\n",
       "      <td>2.550500e+02</td>\n",
       "      <td>2.590000e+02</td>\n",
       "      <td>2.501800e+02</td>\n",
       "      <td>1.008488e-03</td>\n",
       "      <td>2.432540e+03</td>\n",
       "      <td>3.734622e-04</td>\n",
       "    </tr>\n",
       "    <tr>\n",
       "      <td>75%</td>\n",
       "      <td>1.054324e+18</td>\n",
       "      <td>0.000000e+00</td>\n",
       "      <td>0.000000e+00</td>\n",
       "      <td>1.000000e+00</td>\n",
       "      <td>7.042400e+02</td>\n",
       "      <td>3.059640e+07</td>\n",
       "      <td>7.036700e+02</td>\n",
       "      <td>7.116000e+02</td>\n",
       "      <td>6.968000e+02</td>\n",
       "      <td>1.152093e-02</td>\n",
       "      <td>2.784700e+03</td>\n",
       "      <td>4.620139e-03</td>\n",
       "    </tr>\n",
       "    <tr>\n",
       "      <td>max</td>\n",
       "      <td>1.212160e+18</td>\n",
       "      <td>6.310000e+02</td>\n",
       "      <td>9.990000e+02</td>\n",
       "      <td>9.990000e+02</td>\n",
       "      <td>2.039510e+03</td>\n",
       "      <td>1.691150e+08</td>\n",
       "      <td>2.038110e+03</td>\n",
       "      <td>2.050500e+03</td>\n",
       "      <td>2.013000e+03</td>\n",
       "      <td>1.766923e-01</td>\n",
       "      <td>3.240020e+03</td>\n",
       "      <td>4.959381e-02</td>\n",
       "    </tr>\n",
       "  </tbody>\n",
       "</table>\n",
       "</div>"
      ],
      "text/plain": [
       "           tweet_id   comment_num   retweet_num      like_num   close_value  \\\n",
       "count  3.705421e+06  3.705421e+06  3.705421e+06  3.705421e+06  3.705421e+06   \n",
       "mean   8.825025e+17  2.869946e-01  6.177506e-01  2.027946e+00  4.601062e+02   \n",
       "std    1.925688e+17  1.868682e+00  7.045150e+00  1.339141e+01  4.657105e+02   \n",
       "min    5.508798e+17  0.000000e+00  0.000000e+00  0.000000e+00  4.029000e+01   \n",
       "25%    7.195717e+17  0.000000e+00  0.000000e+00  0.000000e+00  1.287000e+02   \n",
       "50%    8.793614e+17  0.000000e+00  0.000000e+00  0.000000e+00  2.550100e+02   \n",
       "75%    1.054324e+18  0.000000e+00  0.000000e+00  1.000000e+00  7.042400e+02   \n",
       "max    1.212160e+18  6.310000e+02  9.990000e+02  9.990000e+02  2.039510e+03   \n",
       "\n",
       "             volume    open_value    high_value     low_value        return  \\\n",
       "count  3.705421e+06  3.705421e+06  3.705421e+06  3.705421e+06  3.705421e+06   \n",
       "mean   2.035185e+07  4.600215e+02  4.651276e+02  4.545439e+02  1.243132e-03   \n",
       "std    2.263473e+07  4.657048e+02  4.700767e+02  4.607222e+02  2.608636e-02   \n",
       "min    3.475180e+05  4.034000e+01  4.074000e+01  3.972000e+01 -1.390153e-01   \n",
       "25%    3.769453e+06  1.285800e+02  1.296200e+02  1.278500e+02 -8.679704e-03   \n",
       "50%    1.036460e+07  2.550500e+02  2.590000e+02  2.501800e+02  1.008488e-03   \n",
       "75%    3.059640e+07  7.036700e+02  7.116000e+02  6.968000e+02  1.152093e-02   \n",
       "max    1.691150e+08  2.038110e+03  2.050500e+03  2.013000e+03  1.766923e-01   \n",
       "\n",
       "           sp_close  sp_pct_return  \n",
       "count  3.705421e+06  3.703729e+06   \n",
       "mean   2.451504e+03  2.834690e-04   \n",
       "std    3.605926e+02  8.613595e-03   \n",
       "min    1.829080e+03 -4.097924e-02   \n",
       "25%    2.102150e+03 -2.986777e-03   \n",
       "50%    2.432540e+03  3.734622e-04   \n",
       "75%    2.784700e+03  4.620139e-03   \n",
       "max    3.240020e+03  4.959381e-02   "
      ]
     },
     "execution_count": 8,
     "metadata": {},
     "output_type": "execute_result"
    }
   ],
   "source": [
    "final_df.describe()"
   ]
  },
  {
   "cell_type": "markdown",
   "metadata": {},
   "source": [
    "<b>For ease of notebook conversion, renaming final df to main df<b>"
   ]
  },
  {
   "cell_type": "code",
   "execution_count": 9,
   "metadata": {},
   "outputs": [],
   "source": [
    "main_df = final_df"
   ]
  },
  {
   "cell_type": "markdown",
   "metadata": {},
   "source": [
    "## VADAR Sentiment Intensity Analyzer"
   ]
  },
  {
   "cell_type": "code",
   "execution_count": null,
   "metadata": {},
   "outputs": [],
   "source": [
    "sid = SentimentIntensityAnalyzer()\n",
    "main_df['sent_scores'] = main_df['body'].apply(lambda body: sid.polarity_scores(body))\n",
    "\n",
    "#investigate the compound score as this is most indicative of tweet sentiment\n",
    "#VADAR sentiment analyzer does not require much cleaning as things like capitailization and punctuation are important in the \n",
    "#classification\n",
    "main_df['compound']  = main_df['sent_scores'].apply(lambda score_dict: score_dict['compound'])\n",
    "\n",
    "#postive and negative can be derived from the values given by the compound score\n",
    "#closer to 1 is postive while closer to -1 is negative\n",
    "main_df['tweet_sent'] = main_df['compound'].apply(lambda c: 'pos' if c >=0 else 'neg')\n",
    "main_df['positive'] = main_df['tweet_sent'].apply(lambda c: 1 if c =='pos' else 0)\n",
    "main_df['negative'] = main_df['tweet_sent'].apply(lambda c: 1 if c =='neg' else 0)\n",
    "\n",
    "#compbine comments, retweets, and likes into one total reaction score\n",
    "main_df['reaction_num'] = main_df['comment_num'] + main_df['retweet_num'] + main_df['like_num']\n",
    "\n",
    "#dropping where compound is zero to limit neutral tweets as we want to see the impact of postive and negative sentiment\n",
    "#on the market\n",
    "main_df = main_df.loc[~(main_df['compound'] == 0)]\n",
    "\n",
    "#if export is wanted\n",
    "#main_df.to_csv(processed_data_directory_path+'main_df.csv')\n",
    "\n",
    "#check columns created\n",
    "main_df.columns"
   ]
  },
  {
   "cell_type": "markdown",
   "metadata": {},
   "source": [
    "## Sentiment Classification - Flair"
   ]
  },
  {
   "cell_type": "markdown",
   "metadata": {},
   "source": [
    "Note that due to so much negativity found in the data, as well as the length of processing time, this analyzer was not selected for final analysis.  See the sentiment analydid comparison notebook for more details.  Keeping in nbrawconvet for reference."
   ]
  },
  {
   "cell_type": "raw",
   "metadata": {},
   "source": [
    "sentiment_model = flair.models.TextClassifier.load('en-sentiment')"
   ]
  },
  {
   "cell_type": "raw",
   "metadata": {},
   "source": [
    "#define cleaning and prediction functions\n",
    "def clean_tweet(tweet):\n",
    "    whitespace = re.compile(r\"\\s+\")\n",
    "    web_address = re.compile(r\"(?i)http(s):\\/\\/[a-z0-9.~_\\-\\/]+\")\n",
    "    user = re.compile(r\"(?i)@[a-z0-9_]+\")\n",
    "\n",
    "    # we then use the sub method to replace anything matching\n",
    "    tweet = whitespace.sub(' ', tweet)\n",
    "    tweet = web_address.sub('', tweet)\n",
    "    tweet = user.sub('', tweet)\n",
    "    \n",
    "    return tweet\n",
    "\n",
    "def predict_sentiment(input_tweet):\n",
    "    sentence = flair.data.Sentence(input_tweet)\n",
    "    sentiment_model.predict(sentence)\n",
    "    return sentence.labels[0]\n",
    "\n",
    "def get_sentiment_score(input_tweet):\n",
    "    sentence = flair.data.Sentence(input_tweet)\n",
    "    sentiment_model.predict(sentence)\n",
    "    if sentence.labels[0].value=='NEGATIVE':\n",
    "        return sentence.labels[0].score*-1\n",
    "    else:\n",
    "        return sentence.labels[0].score"
   ]
  },
  {
   "cell_type": "markdown",
   "metadata": {},
   "source": [
    "## Sentiment Classification - Text Blob"
   ]
  },
  {
   "cell_type": "code",
   "execution_count": null,
   "metadata": {},
   "outputs": [],
   "source": [
    "def predict_textblob_sentiment(input_tweet):\n",
    "    tb = TextBlob(input_tweet[\"body\"])\n",
    "    input_tweet['TB_polarity'] = tb.sentiment.polarity\n",
    "    input_tweet['TB_subjectivity'] =  tb.sentiment.subjectivity\n",
    "    return input_tweet\n",
    "\n",
    "\n",
    "\n",
    "# predict sentiment of tweet\n",
    "#test_df = test_df.apply(predict_textblob_sentiment,axis=1)\n",
    "main_df = main_df.apply(predict_textblob_sentiment,axis=1)"
   ]
  },
  {
   "cell_type": "code",
   "execution_count": null,
   "metadata": {},
   "outputs": [],
   "source": [
    "# View tweet polarity\n",
    "plt.hist(main_df['TB_polarity'])\n",
    "#plt.xticks(range(-1,2))\n",
    "plt.title('Tweet TextBlob Polarity')\n",
    "plt.xlabel('Value')\n",
    "plt.ylabel('Frequency')\n",
    "plt.show()"
   ]
  },
  {
   "cell_type": "markdown",
   "metadata": {},
   "source": [
    "#### Add summarization logic:\n",
    "### We want to build a weekly dataset to get a handle on the data, and a daily to use for deeper analysis"
   ]
  },
  {
   "cell_type": "code",
   "execution_count": null,
   "metadata": {},
   "outputs": [],
   "source": [
    "#define summarization logic\n",
    "logic = {'open_value'  : 'first',\n",
    "         'high_value'  : 'max',\n",
    "         'low_value'   : 'min',\n",
    "         'close_value' : 'last',\n",
    "         'volume': 'sum',\n",
    "        'reaction_num': 'sum',\n",
    "        'compound': 'mean',\n",
    "        'writer': 'nunique',\n",
    "        'body': 'count',\n",
    "        'positive': 'sum',\n",
    "        'negative': 'sum',\n",
    "        'sp_close': 'last'}"
   ]
  },
  {
   "cell_type": "code",
   "execution_count": null,
   "metadata": {},
   "outputs": [],
   "source": [
    "#weekly dataset construction\n",
    "test_df = deepcopy(main_df)\n",
    "offset = pd.offsets.timedelta(days=6)\n",
    "test_df.set_index('post_date', inplace = True)\n",
    "test_df.index = pd.to_datetime(test_df.index)\n",
    "\n",
    "#create weekly dataset per ticker symbol\n",
    "summary_df = test_df.groupby('ticker_symbol').resample('W', loffset=offset).apply(logic)\n",
    "summary_df['pct_change'] = summary_df.groupby('ticker_symbol')['close_value'].pct_change().mul(100)\n",
    "summary_df['sp_pct_change'] = summary_df.groupby('ticker_symbol')['sp_close'].pct_change().mul(100)\n",
    "summary_df['ratio_pos'] = summary_df['positive'] / (summary_df['positive'] + summary_df['negative'])\n",
    "summary_df['ratio_neg'] = summary_df['negative'] / (summary_df['positive'] + summary_df['negative'])\n",
    "\n",
    "#build daily dataset\n",
    "test_df = deepcopy(main_df)\n",
    "test_df.set_index('post_date', inplace = True)\n",
    "test_df.index = pd.to_datetime(test_df.index)\n",
    "daily_df = test_df.groupby('ticker_symbol').resample('D').apply(logic)\n",
    "daily_df['pct_change'] = daily_df.groupby('ticker_symbol')['close_value'].pct_change().mul(100)\n",
    "daily_df['sp_pct_change'] = daily_df.groupby('ticker_symbol')['sp_close'].pct_change().mul(100)\n",
    "daily_df['ratio_pos'] = daily_df['positive'] / (daily_df['positive'] + daily_df['negative'])\n",
    "daily_df['ratio_neg'] = daily_df['negative'] / (daily_df['positive'] + daily_df['negative'])\n",
    "daily_df.dropna(inplace=True)\n"
   ]
  },
  {
   "cell_type": "code",
   "execution_count": null,
   "metadata": {},
   "outputs": [],
   "source": []
  },
  {
   "cell_type": "markdown",
   "metadata": {},
   "source": [
    "<b>Explore Datasets to see Stock Trending Difference from S&P Data</b>"
   ]
  },
  {
   "cell_type": "code",
   "execution_count": 12,
   "metadata": {},
   "outputs": [],
   "source": [
    "#import already consolidated file from directory - daily summary with S&P data, \n",
    "#to save compilation time from running sentiment analyzers"
   ]
  },
  {
   "cell_type": "code",
   "execution_count": 16,
   "metadata": {},
   "outputs": [],
   "source": [
    "#path to src folder\n",
    "raw_src_directory = \"/\".join(cd.split(\"/\")[:-1]) + \"/src/data/\"\n",
    "raw_src_directory = 'C:/Users/heath/Desktop/W207/w207_final_project/w207_final_project/src/data/'"
   ]
  },
  {
   "cell_type": "code",
   "execution_count": 17,
   "metadata": {},
   "outputs": [],
   "source": [
    "sp_eval = pd.read_csv(raw_src_directory + 'daily_data_with_SP500.csv')"
   ]
  },
  {
   "cell_type": "code",
   "execution_count": 51,
   "metadata": {},
   "outputs": [],
   "source": [
    "sp_eval['market_dif'] = sp_eval['pct_change']-sp_eval['sp_pct_change'] "
   ]
  },
  {
   "cell_type": "code",
   "execution_count": 78,
   "metadata": {},
   "outputs": [
    {
     "data": {
      "image/png": "[encoded data removed]",
      "text/plain": [
       "<Figure size 864x720 with 1 Axes>"
      ]
     },
     "metadata": {
      "needs_background": "light"
     },
     "output_type": "display_data"
    }
   ],
   "source": [
    "# gca stands for 'get current axis'\n",
    "plt.figure(figsize=(12,10))\n",
    "ax = plt.gca()\n",
    "\n",
    "sp_eval_cat = sp_eval[sp_eval.ticker_symbol==ticker]\n",
    "sp_eval_cat.plot(kind='line',x='post_date',y='pct_change',ax=ax)\n",
    "sp_eval_cat.plot(kind='line',x='post_date',y='market_dif', color='orange', ax=ax)\n",
    "sp_eval_cat.plot(kind='line',x='post_date',y='sp_pct_change', color='green', ax=ax)\n",
    "ax.tick_params(rotation=70)\n",
    "ax.set_title('Market Change Comparison')\n",
    "\n",
    "plt.show()"
   ]
  },
  {
   "cell_type": "code",
   "execution_count": 80,
   "metadata": {},
   "outputs": [
    {
     "data": {
      "image/png": "[encoded data removed]",
      "text/plain": [
       "<Figure size 864x720 with 1 Axes>"
      ]
     },
     "metadata": {
      "needs_background": "light"
     },
     "output_type": "display_data"
    }
   ],
   "source": [
    "out = pd.cut(sp_eval.market_dif, bins=[-5, -4, -3, -2, -1, 0, 1, 2, 3, 4, 5], include_lowest=True)\n",
    "ax = out.value_counts(sort=False).plot.bar(rot=0, color=\"b\", figsize=(12,10))\n",
    "ax.tick_params(rotation=70)\n",
    "ax.set_title('Difference Between Stock Price and S&P500 - Daily Data')\n",
    "ax.set_xlabel('Percent Difference')\n",
    "ax.set_ylabel('Count')\n",
    "    \n",
    "plt.show()"
   ]
  },
  {
   "cell_type": "code",
   "execution_count": 55,
   "metadata": {},
   "outputs": [],
   "source": [
    "#separate big swing days - see if tweet sentiment had an impact in model"
   ]
  },
  {
   "cell_type": "code",
   "execution_count": 60,
   "metadata": {},
   "outputs": [],
   "source": [
    "big_dif = sp_eval[sp_eval['market_dif'].all() >1 or sp_eval['market_dif'] <-1]"
   ]
  },
  {
   "cell_type": "code",
   "execution_count": 63,
   "metadata": {},
   "outputs": [
    {
     "data": {
      "text/html": [
       "<div>\n",
       "<style scoped>\n",
       "    .dataframe tbody tr th:only-of-type {\n",
       "        vertical-align: middle;\n",
       "    }\n",
       "\n",
       "    .dataframe tbody tr th {\n",
       "        vertical-align: top;\n",
       "    }\n",
       "\n",
       "    .dataframe thead th {\n",
       "        text-align: right;\n",
       "    }\n",
       "</style>\n",
       "<table border=\"1\" class=\"dataframe\">\n",
       "  <thead>\n",
       "    <tr style=\"text-align: right;\">\n",
       "      <th></th>\n",
       "      <th>Unnamed: 0</th>\n",
       "      <th>ticker_symbol</th>\n",
       "      <th>post_date</th>\n",
       "      <th>open_value</th>\n",
       "      <th>high_value</th>\n",
       "      <th>low_value</th>\n",
       "      <th>close_value</th>\n",
       "      <th>volume</th>\n",
       "      <th>reaction_num</th>\n",
       "      <th>compound</th>\n",
       "      <th>...</th>\n",
       "      <th>writer</th>\n",
       "      <th>body</th>\n",
       "      <th>positive</th>\n",
       "      <th>negative</th>\n",
       "      <th>sp_close</th>\n",
       "      <th>pct_change</th>\n",
       "      <th>sp_pct_change</th>\n",
       "      <th>ratio_pos</th>\n",
       "      <th>ratio_neg</th>\n",
       "      <th>market_dif</th>\n",
       "    </tr>\n",
       "  </thead>\n",
       "  <tbody>\n",
       "    <tr>\n",
       "      <td>5</td>\n",
       "      <td>5</td>\n",
       "      <td>AAPL</td>\n",
       "      <td>2015-01-12</td>\n",
       "      <td>112.60</td>\n",
       "      <td>112.63</td>\n",
       "      <td>108.8000</td>\n",
       "      <td>109.25</td>\n",
       "      <td>28205995730</td>\n",
       "      <td>433</td>\n",
       "      <td>0.276139</td>\n",
       "      <td>...</td>\n",
       "      <td>256</td>\n",
       "      <td>569</td>\n",
       "      <td>405</td>\n",
       "      <td>164</td>\n",
       "      <td>2028.26</td>\n",
       "      <td>-2.464066</td>\n",
       "      <td>-0.809366</td>\n",
       "      <td>0.711775</td>\n",
       "      <td>0.288225</td>\n",
       "      <td>-1.654700</td>\n",
       "    </tr>\n",
       "    <tr>\n",
       "      <td>8</td>\n",
       "      <td>8</td>\n",
       "      <td>AAPL</td>\n",
       "      <td>2015-01-15</td>\n",
       "      <td>110.00</td>\n",
       "      <td>110.06</td>\n",
       "      <td>106.6600</td>\n",
       "      <td>106.82</td>\n",
       "      <td>34928146480</td>\n",
       "      <td>356</td>\n",
       "      <td>0.140336</td>\n",
       "      <td>...</td>\n",
       "      <td>305</td>\n",
       "      <td>584</td>\n",
       "      <td>377</td>\n",
       "      <td>207</td>\n",
       "      <td>1992.67</td>\n",
       "      <td>-2.714026</td>\n",
       "      <td>-0.924789</td>\n",
       "      <td>0.645548</td>\n",
       "      <td>0.354452</td>\n",
       "      <td>-1.789237</td>\n",
       "    </tr>\n",
       "    <tr>\n",
       "      <td>9</td>\n",
       "      <td>9</td>\n",
       "      <td>AAPL</td>\n",
       "      <td>2015-01-16</td>\n",
       "      <td>107.03</td>\n",
       "      <td>107.58</td>\n",
       "      <td>105.2000</td>\n",
       "      <td>105.99</td>\n",
       "      <td>44090771460</td>\n",
       "      <td>300</td>\n",
       "      <td>0.130288</td>\n",
       "      <td>...</td>\n",
       "      <td>256</td>\n",
       "      <td>562</td>\n",
       "      <td>334</td>\n",
       "      <td>228</td>\n",
       "      <td>2019.42</td>\n",
       "      <td>-0.777008</td>\n",
       "      <td>1.342420</td>\n",
       "      <td>0.594306</td>\n",
       "      <td>0.405694</td>\n",
       "      <td>-2.119428</td>\n",
       "    </tr>\n",
       "    <tr>\n",
       "      <td>15</td>\n",
       "      <td>15</td>\n",
       "      <td>AAPL</td>\n",
       "      <td>2015-01-27</td>\n",
       "      <td>112.42</td>\n",
       "      <td>112.48</td>\n",
       "      <td>109.0300</td>\n",
       "      <td>109.14</td>\n",
       "      <td>255652466160</td>\n",
       "      <td>5374</td>\n",
       "      <td>0.242667</td>\n",
       "      <td>...</td>\n",
       "      <td>1487</td>\n",
       "      <td>2769</td>\n",
       "      <td>2020</td>\n",
       "      <td>749</td>\n",
       "      <td>2029.55</td>\n",
       "      <td>-3.501326</td>\n",
       "      <td>-1.338784</td>\n",
       "      <td>0.729505</td>\n",
       "      <td>0.270495</td>\n",
       "      <td>-2.162542</td>\n",
       "    </tr>\n",
       "    <tr>\n",
       "      <td>20</td>\n",
       "      <td>20</td>\n",
       "      <td>AAPL</td>\n",
       "      <td>2015-02-03</td>\n",
       "      <td>118.50</td>\n",
       "      <td>119.09</td>\n",
       "      <td>117.6100</td>\n",
       "      <td>118.65</td>\n",
       "      <td>27683670720</td>\n",
       "      <td>359</td>\n",
       "      <td>0.251293</td>\n",
       "      <td>...</td>\n",
       "      <td>260</td>\n",
       "      <td>534</td>\n",
       "      <td>391</td>\n",
       "      <td>143</td>\n",
       "      <td>2050.03</td>\n",
       "      <td>0.016859</td>\n",
       "      <td>1.443947</td>\n",
       "      <td>0.732210</td>\n",
       "      <td>0.267790</td>\n",
       "      <td>-1.427088</td>\n",
       "    </tr>\n",
       "    <tr>\n",
       "      <td>...</td>\n",
       "      <td>...</td>\n",
       "      <td>...</td>\n",
       "      <td>...</td>\n",
       "      <td>...</td>\n",
       "      <td>...</td>\n",
       "      <td>...</td>\n",
       "      <td>...</td>\n",
       "      <td>...</td>\n",
       "      <td>...</td>\n",
       "      <td>...</td>\n",
       "      <td>...</td>\n",
       "      <td>...</td>\n",
       "      <td>...</td>\n",
       "      <td>...</td>\n",
       "      <td>...</td>\n",
       "      <td>...</td>\n",
       "      <td>...</td>\n",
       "      <td>...</td>\n",
       "      <td>...</td>\n",
       "      <td>...</td>\n",
       "      <td>...</td>\n",
       "    </tr>\n",
       "    <tr>\n",
       "      <td>7514</td>\n",
       "      <td>7514</td>\n",
       "      <td>TSLA</td>\n",
       "      <td>2019-11-20</td>\n",
       "      <td>360.00</td>\n",
       "      <td>361.20</td>\n",
       "      <td>349.5700</td>\n",
       "      <td>352.22</td>\n",
       "      <td>4909060485</td>\n",
       "      <td>9793</td>\n",
       "      <td>0.103102</td>\n",
       "      <td>...</td>\n",
       "      <td>359</td>\n",
       "      <td>729</td>\n",
       "      <td>441</td>\n",
       "      <td>288</td>\n",
       "      <td>3108.46</td>\n",
       "      <td>-2.030485</td>\n",
       "      <td>-0.375619</td>\n",
       "      <td>0.604938</td>\n",
       "      <td>0.395062</td>\n",
       "      <td>-1.654866</td>\n",
       "    </tr>\n",
       "    <tr>\n",
       "      <td>7516</td>\n",
       "      <td>7516</td>\n",
       "      <td>TSLA</td>\n",
       "      <td>2019-11-22</td>\n",
       "      <td>340.16</td>\n",
       "      <td>341.00</td>\n",
       "      <td>330.0000</td>\n",
       "      <td>333.04</td>\n",
       "      <td>36609288800</td>\n",
       "      <td>23159</td>\n",
       "      <td>0.129146</td>\n",
       "      <td>...</td>\n",
       "      <td>1082</td>\n",
       "      <td>2170</td>\n",
       "      <td>1338</td>\n",
       "      <td>832</td>\n",
       "      <td>3110.29</td>\n",
       "      <td>-6.140969</td>\n",
       "      <td>0.217494</td>\n",
       "      <td>0.616590</td>\n",
       "      <td>0.383410</td>\n",
       "      <td>-6.358462</td>\n",
       "    </tr>\n",
       "    <tr>\n",
       "      <td>7518</td>\n",
       "      <td>7518</td>\n",
       "      <td>TSLA</td>\n",
       "      <td>2019-11-26</td>\n",
       "      <td>335.27</td>\n",
       "      <td>335.50</td>\n",
       "      <td>327.1000</td>\n",
       "      <td>328.92</td>\n",
       "      <td>7081052710</td>\n",
       "      <td>13998</td>\n",
       "      <td>0.124760</td>\n",
       "      <td>...</td>\n",
       "      <td>399</td>\n",
       "      <td>890</td>\n",
       "      <td>556</td>\n",
       "      <td>334</td>\n",
       "      <td>3140.52</td>\n",
       "      <td>-2.206101</td>\n",
       "      <td>0.219553</td>\n",
       "      <td>0.624719</td>\n",
       "      <td>0.375281</td>\n",
       "      <td>-2.425654</td>\n",
       "    </tr>\n",
       "    <tr>\n",
       "      <td>7523</td>\n",
       "      <td>7523</td>\n",
       "      <td>TSLA</td>\n",
       "      <td>2019-12-04</td>\n",
       "      <td>337.75</td>\n",
       "      <td>337.86</td>\n",
       "      <td>332.8500</td>\n",
       "      <td>333.03</td>\n",
       "      <td>3332825510</td>\n",
       "      <td>7522</td>\n",
       "      <td>0.143982</td>\n",
       "      <td>...</td>\n",
       "      <td>302</td>\n",
       "      <td>602</td>\n",
       "      <td>381</td>\n",
       "      <td>221</td>\n",
       "      <td>3112.76</td>\n",
       "      <td>-0.942891</td>\n",
       "      <td>0.632355</td>\n",
       "      <td>0.632890</td>\n",
       "      <td>0.367110</td>\n",
       "      <td>-1.575246</td>\n",
       "    </tr>\n",
       "    <tr>\n",
       "      <td>7540</td>\n",
       "      <td>7540</td>\n",
       "      <td>TSLA</td>\n",
       "      <td>2019-12-30</td>\n",
       "      <td>428.79</td>\n",
       "      <td>429.00</td>\n",
       "      <td>409.2589</td>\n",
       "      <td>414.70</td>\n",
       "      <td>11530162050</td>\n",
       "      <td>10484</td>\n",
       "      <td>0.147738</td>\n",
       "      <td>...</td>\n",
       "      <td>500</td>\n",
       "      <td>915</td>\n",
       "      <td>562</td>\n",
       "      <td>353</td>\n",
       "      <td>3221.29</td>\n",
       "      <td>-3.643292</td>\n",
       "      <td>-0.578083</td>\n",
       "      <td>0.614208</td>\n",
       "      <td>0.385792</td>\n",
       "      <td>-3.065209</td>\n",
       "    </tr>\n",
       "  </tbody>\n",
       "</table>\n",
       "<p>1054 rows × 22 columns</p>\n",
       "</div>"
      ],
      "text/plain": [
       "      Unnamed: 0 ticker_symbol   post_date  open_value  high_value  low_value  \\\n",
       "5     5           AAPL          2015-01-12  112.60      112.63      108.8000    \n",
       "8     8           AAPL          2015-01-15  110.00      110.06      106.6600    \n",
       "9     9           AAPL          2015-01-16  107.03      107.58      105.2000    \n",
       "15    15          AAPL          2015-01-27  112.42      112.48      109.0300    \n",
       "20    20          AAPL          2015-02-03  118.50      119.09      117.6100    \n",
       "...   ..           ...                 ...     ...         ...           ...    \n",
       "7514  7514        TSLA          2019-11-20  360.00      361.20      349.5700    \n",
       "7516  7516        TSLA          2019-11-22  340.16      341.00      330.0000    \n",
       "7518  7518        TSLA          2019-11-26  335.27      335.50      327.1000    \n",
       "7523  7523        TSLA          2019-12-04  337.75      337.86      332.8500    \n",
       "7540  7540        TSLA          2019-12-30  428.79      429.00      409.2589    \n",
       "\n",
       "      close_value        volume  reaction_num  compound  ...  writer  body  \\\n",
       "5     109.25       28205995730   433           0.276139  ...  256     569    \n",
       "8     106.82       34928146480   356           0.140336  ...  305     584    \n",
       "9     105.99       44090771460   300           0.130288  ...  256     562    \n",
       "15    109.14       255652466160  5374          0.242667  ...  1487    2769   \n",
       "20    118.65       27683670720   359           0.251293  ...  260     534    \n",
       "...      ...               ...   ...                ...  ...  ...     ...    \n",
       "7514  352.22       4909060485    9793          0.103102  ...  359     729    \n",
       "7516  333.04       36609288800   23159         0.129146  ...  1082    2170   \n",
       "7518  328.92       7081052710    13998         0.124760  ...  399     890    \n",
       "7523  333.03       3332825510    7522          0.143982  ...  302     602    \n",
       "7540  414.70       11530162050   10484         0.147738  ...  500     915    \n",
       "\n",
       "      positive  negative  sp_close  pct_change  sp_pct_change  ratio_pos  \\\n",
       "5     405       164       2028.26  -2.464066   -0.809366       0.711775    \n",
       "8     377       207       1992.67  -2.714026   -0.924789       0.645548    \n",
       "9     334       228       2019.42  -0.777008    1.342420       0.594306    \n",
       "15    2020      749       2029.55  -3.501326   -1.338784       0.729505    \n",
       "20    391       143       2050.03   0.016859    1.443947       0.732210    \n",
       "...   ...       ...           ...        ...         ...            ...    \n",
       "7514  441       288       3108.46  -2.030485   -0.375619       0.604938    \n",
       "7516  1338      832       3110.29  -6.140969    0.217494       0.616590    \n",
       "7518  556       334       3140.52  -2.206101    0.219553       0.624719    \n",
       "7523  381       221       3112.76  -0.942891    0.632355       0.632890    \n",
       "7540  562       353       3221.29  -3.643292   -0.578083       0.614208    \n",
       "\n",
       "      ratio_neg  market_dif  \n",
       "5     0.288225  -1.654700    \n",
       "8     0.354452  -1.789237    \n",
       "9     0.405694  -2.119428    \n",
       "15    0.270495  -2.162542    \n",
       "20    0.267790  -1.427088    \n",
       "...        ...        ...    \n",
       "7514  0.395062  -1.654866    \n",
       "7516  0.383410  -6.358462    \n",
       "7518  0.375281  -2.425654    \n",
       "7523  0.367110  -1.575246    \n",
       "7540  0.385792  -3.065209    \n",
       "\n",
       "[1054 rows x 22 columns]"
      ]
     },
     "execution_count": 63,
     "metadata": {},
     "output_type": "execute_result"
    }
   ],
   "source": [
    "big_dif"
   ]
  },
  {
   "cell_type": "code",
   "execution_count": 76,
   "metadata": {},
   "outputs": [
    {
     "name": "stdout",
     "output_type": "stream",
     "text": [
      "min trades 6577550\n",
      "max trades 316342825200\n"
     ]
    },
    {
     "data": {
      "image/png": "[encoded data removed]",
      "text/plain": [
       "<Figure size 1332x756 with 1 Axes>"
      ]
     },
     "metadata": {
      "needs_background": "light"
     },
     "output_type": "display_data"
    }
   ],
   "source": [
    "fig = plt.gcf()\n",
    "fig.set_size_inches(18.5, 10.5)\n",
    "plt.hist(sp_eval.volume, bins = 20, rwidth=0.9)\n",
    "plt.ylabel('Trade Volume')\n",
    "plt.title('Trade Distibutin by Volume')\n",
    "print('min trades', sp_eval.volume.min())\n",
    "print('max trades', sp_eval.volume.max())"
   ]
  },
  {
   "cell_type": "code",
   "execution_count": null,
   "metadata": {},
   "outputs": [],
   "source": []
  }
 ],
 "metadata": {
  "kernelspec": {
   "display_name": "sentiment",
   "language": "python",
   "name": "sentiment"
  },
  "language_info": {
   "codemirror_mode": {
    "name": "ipython",
    "version": 3
   },
   "file_extension": ".py",
   "mimetype": "text/x-python",
   "name": "python",
   "nbconvert_exporter": "python",
   "pygments_lexer": "ipython3",
   "version": "3.7.4"
  }
 },
 "nbformat": 4,
 "nbformat_minor": 2
}
