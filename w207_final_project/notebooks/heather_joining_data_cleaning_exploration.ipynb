{
 "cells": [
  {
   "cell_type": "code",
   "execution_count": 1,
   "metadata": {},
   "outputs": [],
   "source": [
    "import pandas as pd\n",
    "import datetime\n",
    "import missingno\n",
    "import os"
   ]
  },
  {
   "cell_type": "markdown",
   "metadata": {},
   "source": [
    "<b>Load Data and Join Initial Datasets, Clean as Needed</b>"
   ]
  },
  {
   "cell_type": "code",
   "execution_count": 2,
   "metadata": {},
   "outputs": [],
   "source": [
    "#enter your appriate path/paths here\n",
    "path = 'C:/Users/heath/Desktop/W207/w207_final_project/data/'"
   ]
  },
  {
   "cell_type": "code",
   "execution_count": 3,
   "metadata": {},
   "outputs": [],
   "source": [
    "tweets = pd.read_csv(path+'Tweet.csv')"
   ]
  },
  {
   "cell_type": "code",
   "execution_count": 4,
   "metadata": {},
   "outputs": [],
   "source": [
    "company_tweets = pd.read_csv(path +'Company_Tweet.csv')"
   ]
  },
  {
   "cell_type": "code",
   "execution_count": 5,
   "metadata": {},
   "outputs": [],
   "source": [
    "company = pd.read_csv(path +'Company.csv')"
   ]
  },
  {
   "cell_type": "code",
   "execution_count": 6,
   "metadata": {},
   "outputs": [],
   "source": [
    "tweet_combo = pd.merge(tweets, company_tweets)"
   ]
  },
  {
   "cell_type": "code",
   "execution_count": 7,
   "metadata": {},
   "outputs": [],
   "source": [
    "tweet_combo = pd.merge(tweet_combo, company)"
   ]
  },
  {
   "cell_type": "code",
   "execution_count": 8,
   "metadata": {},
   "outputs": [],
   "source": [
    "companynasdaq = pd.read_csv(path + 'Company_nasdaq.csv')"
   ]
  },
  {
   "cell_type": "code",
   "execution_count": 9,
   "metadata": {},
   "outputs": [],
   "source": [
    "company_val = pd.read_csv(path+'CompanyValues.csv')"
   ]
  },
  {
   "cell_type": "code",
   "execution_count": 10,
   "metadata": {},
   "outputs": [],
   "source": [
    "company_val.day_date = pd.to_datetime(company_val.day_date,format='%Y-%m-%d')"
   ]
  },
  {
   "cell_type": "code",
   "execution_count": 11,
   "metadata": {},
   "outputs": [],
   "source": [
    "#get stock data 2015 plus to match our tweet data dates\n",
    "company_val = company_val.loc[company_val.day_date >= '2015-01-01']"
   ]
  },
  {
   "cell_type": "code",
   "execution_count": 12,
   "metadata": {},
   "outputs": [
    {
     "data": {
      "text/plain": [
       "Timestamp('2015-01-01 00:00:00')"
      ]
     },
     "execution_count": 12,
     "metadata": {},
     "output_type": "execute_result"
    }
   ],
   "source": [
    "#check to make sure filter worked\n",
    "company_val.day_date.min()"
   ]
  },
  {
   "cell_type": "code",
   "execution_count": 13,
   "metadata": {},
   "outputs": [],
   "source": [
    "stock_prices = pd.merge(company_val, companynasdaq)"
   ]
  },
  {
   "cell_type": "code",
   "execution_count": 14,
   "metadata": {},
   "outputs": [],
   "source": [
    "tweet_combo.post_date = tweet_combo.post_date.apply(lambda x: datetime.datetime.fromtimestamp(x).strftime('%Y-%m-%d'))\n",
    "tweet_combo.post_date = pd.to_datetime(tweet_combo.post_date, format='%Y-%m-%d')"
   ]
  },
  {
   "cell_type": "code",
   "execution_count": 15,
   "metadata": {},
   "outputs": [
    {
     "data": {
      "text/plain": [
       "4336445"
      ]
     },
     "execution_count": 15,
     "metadata": {},
     "output_type": "execute_result"
    }
   ],
   "source": [
    "len(tweet_combo)"
   ]
  },
  {
   "cell_type": "code",
   "execution_count": 16,
   "metadata": {},
   "outputs": [],
   "source": [
    "#join on date and ticker symbol to get the stock price for the company for the date of the post"
   ]
  },
  {
   "cell_type": "code",
   "execution_count": 17,
   "metadata": {},
   "outputs": [],
   "source": [
    "final_df = pd.merge(tweet_combo, stock_prices, left_on = ['post_date', 'ticker_symbol'], right_on = ['day_date', 'ticker_symbol'])"
   ]
  },
  {
   "cell_type": "code",
   "execution_count": 18,
   "metadata": {},
   "outputs": [],
   "source": [
    "#lost x amount of tweets when merging stock data (171)"
   ]
  },
  {
   "cell_type": "code",
   "execution_count": 19,
   "metadata": {},
   "outputs": [
    {
     "data": {
      "text/plain": [
       "171"
      ]
     },
     "execution_count": 19,
     "metadata": {},
     "output_type": "execute_result"
    }
   ],
   "source": [
    "len(tweet_combo) - len(final_df)"
   ]
  },
  {
   "cell_type": "code",
   "execution_count": 20,
   "metadata": {},
   "outputs": [],
   "source": [
    "final_df = final_df.rename(columns = {'company_name_x': 'company_name'})\n",
    "final_df = final_df.drop(['company_name_y'], axis=1)"
   ]
  },
  {
   "cell_type": "markdown",
   "metadata": {},
   "source": [
    "<b>Export to appropriate path here</b>"
   ]
  },
  {
   "cell_type": "code",
   "execution_count": 21,
   "metadata": {},
   "outputs": [],
   "source": [
    "final_df.to_csv(path+'cleaned_data.csv')"
   ]
  },
  {
   "cell_type": "markdown",
   "metadata": {},
   "source": [
    "<b>Data Exploration ..</b>"
   ]
  },
  {
   "cell_type": "code",
   "execution_count": 22,
   "metadata": {},
   "outputs": [
    {
     "data": {
      "text/plain": [
       "<matplotlib.axes._subplots.AxesSubplot at 0x2ca7c1d4608>"
      ]
     },
     "execution_count": 22,
     "metadata": {},
     "output_type": "execute_result"
    },
    {
     "data": {
      "image/png": "[encoded data removed]",
      "text/plain": [
       "<Figure size 720x360 with 2 Axes>"
      ]
     },
     "metadata": {
      "needs_background": "light"
     },
     "output_type": "display_data"
    }
   ],
   "source": [
    "missingno.matrix(final_df,figsize=(10,5), fontsize=12)"
   ]
  },
  {
   "cell_type": "code",
   "execution_count": 23,
   "metadata": {},
   "outputs": [],
   "source": [
    "#cool that we are actually not missing a lot of data, basically have full data for all values.\n"
   ]
  },
  {
   "cell_type": "code",
   "execution_count": 24,
   "metadata": {},
   "outputs": [
    {
     "data": {
      "text/html": [
       "<div>\n",
       "<style scoped>\n",
       "    .dataframe tbody tr th:only-of-type {\n",
       "        vertical-align: middle;\n",
       "    }\n",
       "\n",
       "    .dataframe tbody tr th {\n",
       "        vertical-align: top;\n",
       "    }\n",
       "\n",
       "    .dataframe thead th {\n",
       "        text-align: right;\n",
       "    }\n",
       "</style>\n",
       "<table border=\"1\" class=\"dataframe\">\n",
       "  <thead>\n",
       "    <tr style=\"text-align: right;\">\n",
       "      <th></th>\n",
       "      <th>tweet_id</th>\n",
       "      <th>comment_num</th>\n",
       "      <th>retweet_num</th>\n",
       "      <th>like_num</th>\n",
       "      <th>close_value</th>\n",
       "      <th>volume</th>\n",
       "      <th>open_value</th>\n",
       "      <th>high_value</th>\n",
       "      <th>low_value</th>\n",
       "    </tr>\n",
       "  </thead>\n",
       "  <tbody>\n",
       "    <tr>\n",
       "      <td>count</td>\n",
       "      <td>4.336274e+06</td>\n",
       "      <td>4.336274e+06</td>\n",
       "      <td>4.336274e+06</td>\n",
       "      <td>4.336274e+06</td>\n",
       "      <td>4.336274e+06</td>\n",
       "      <td>4.336274e+06</td>\n",
       "      <td>4.336274e+06</td>\n",
       "      <td>4.336274e+06</td>\n",
       "      <td>4.336274e+06</td>\n",
       "    </tr>\n",
       "    <tr>\n",
       "      <td>mean</td>\n",
       "      <td>8.834413e+17</td>\n",
       "      <td>2.923867e-01</td>\n",
       "      <td>6.347207e-01</td>\n",
       "      <td>2.103661e+00</td>\n",
       "      <td>4.595990e+02</td>\n",
       "      <td>2.005131e+07</td>\n",
       "      <td>4.596834e+02</td>\n",
       "      <td>4.646605e+02</td>\n",
       "      <td>4.541944e+02</td>\n",
       "    </tr>\n",
       "    <tr>\n",
       "      <td>std</td>\n",
       "      <td>1.927660e+17</td>\n",
       "      <td>1.885780e+00</td>\n",
       "      <td>6.985978e+00</td>\n",
       "      <td>1.371765e+01</td>\n",
       "      <td>4.634337e+02</td>\n",
       "      <td>2.224596e+07</td>\n",
       "      <td>4.636247e+02</td>\n",
       "      <td>4.678384e+02</td>\n",
       "      <td>4.586462e+02</td>\n",
       "    </tr>\n",
       "    <tr>\n",
       "      <td>min</td>\n",
       "      <td>5.505179e+17</td>\n",
       "      <td>0.000000e+00</td>\n",
       "      <td>0.000000e+00</td>\n",
       "      <td>0.000000e+00</td>\n",
       "      <td>4.029000e+01</td>\n",
       "      <td>3.475180e+05</td>\n",
       "      <td>4.034000e+01</td>\n",
       "      <td>4.074000e+01</td>\n",
       "      <td>3.972000e+01</td>\n",
       "    </tr>\n",
       "    <tr>\n",
       "      <td>25%</td>\n",
       "      <td>7.185662e+17</td>\n",
       "      <td>0.000000e+00</td>\n",
       "      <td>0.000000e+00</td>\n",
       "      <td>0.000000e+00</td>\n",
       "      <td>1.289500e+02</td>\n",
       "      <td>3.742816e+06</td>\n",
       "      <td>1.290800e+02</td>\n",
       "      <td>1.304900e+02</td>\n",
       "      <td>1.282400e+02</td>\n",
       "    </tr>\n",
       "    <tr>\n",
       "      <td>50%</td>\n",
       "      <td>8.825983e+17</td>\n",
       "      <td>0.000000e+00</td>\n",
       "      <td>0.000000e+00</td>\n",
       "      <td>0.000000e+00</td>\n",
       "      <td>2.574800e+02</td>\n",
       "      <td>1.021294e+07</td>\n",
       "      <td>2.573500e+02</td>\n",
       "      <td>2.619900e+02</td>\n",
       "      <td>2.521000e+02</td>\n",
       "    </tr>\n",
       "    <tr>\n",
       "      <td>75%</td>\n",
       "      <td>1.054777e+18</td>\n",
       "      <td>0.000000e+00</td>\n",
       "      <td>0.000000e+00</td>\n",
       "      <td>1.000000e+00</td>\n",
       "      <td>7.017900e+02</td>\n",
       "      <td>3.034878e+07</td>\n",
       "      <td>7.010500e+02</td>\n",
       "      <td>7.080912e+02</td>\n",
       "      <td>6.940000e+02</td>\n",
       "    </tr>\n",
       "    <tr>\n",
       "      <td>max</td>\n",
       "      <td>1.212160e+18</td>\n",
       "      <td>6.310000e+02</td>\n",
       "      <td>9.990000e+02</td>\n",
       "      <td>9.990000e+02</td>\n",
       "      <td>2.039510e+03</td>\n",
       "      <td>1.691150e+08</td>\n",
       "      <td>2.038110e+03</td>\n",
       "      <td>2.050500e+03</td>\n",
       "      <td>2.013000e+03</td>\n",
       "    </tr>\n",
       "  </tbody>\n",
       "</table>\n",
       "</div>"
      ],
      "text/plain": [
       "           tweet_id   comment_num   retweet_num      like_num   close_value  \\\n",
       "count  4.336274e+06  4.336274e+06  4.336274e+06  4.336274e+06  4.336274e+06   \n",
       "mean   8.834413e+17  2.923867e-01  6.347207e-01  2.103661e+00  4.595990e+02   \n",
       "std    1.927660e+17  1.885780e+00  6.985978e+00  1.371765e+01  4.634337e+02   \n",
       "min    5.505179e+17  0.000000e+00  0.000000e+00  0.000000e+00  4.029000e+01   \n",
       "25%    7.185662e+17  0.000000e+00  0.000000e+00  0.000000e+00  1.289500e+02   \n",
       "50%    8.825983e+17  0.000000e+00  0.000000e+00  0.000000e+00  2.574800e+02   \n",
       "75%    1.054777e+18  0.000000e+00  0.000000e+00  1.000000e+00  7.017900e+02   \n",
       "max    1.212160e+18  6.310000e+02  9.990000e+02  9.990000e+02  2.039510e+03   \n",
       "\n",
       "             volume    open_value    high_value     low_value  \n",
       "count  4.336274e+06  4.336274e+06  4.336274e+06  4.336274e+06  \n",
       "mean   2.005131e+07  4.596834e+02  4.646605e+02  4.541944e+02  \n",
       "std    2.224596e+07  4.636247e+02  4.678384e+02  4.586462e+02  \n",
       "min    3.475180e+05  4.034000e+01  4.074000e+01  3.972000e+01  \n",
       "25%    3.742816e+06  1.290800e+02  1.304900e+02  1.282400e+02  \n",
       "50%    1.021294e+07  2.573500e+02  2.619900e+02  2.521000e+02  \n",
       "75%    3.034878e+07  7.010500e+02  7.080912e+02  6.940000e+02  \n",
       "max    1.691150e+08  2.038110e+03  2.050500e+03  2.013000e+03  "
      ]
     },
     "execution_count": 24,
     "metadata": {},
     "output_type": "execute_result"
    }
   ],
   "source": [
    "final_df.describe()"
   ]
  },
  {
   "cell_type": "code",
   "execution_count": 25,
   "metadata": {},
   "outputs": [
    {
     "data": {
      "text/plain": [
       "<matplotlib.axes._subplots.AxesSubplot at 0x2ca33f75148>"
      ]
     },
     "execution_count": 25,
     "metadata": {},
     "output_type": "execute_result"
    },
    {
     "data": {
      "image/png": "[encoded data removed]",
      "text/plain": [
       "<Figure size 432x288 with 1 Axes>"
      ]
     },
     "metadata": {
      "needs_background": "light"
     },
     "output_type": "display_data"
    }
   ],
   "source": [
    "final_df.groupby(final_df[\"post_date\"].dt.month).count().plot(kind=\"bar\")"
   ]
  },
  {
   "cell_type": "code",
   "execution_count": null,
   "metadata": {},
   "outputs": [],
   "source": []
  },
  {
   "cell_type": "code",
   "execution_count": null,
   "metadata": {},
   "outputs": [],
   "source": []
  }
 ],
 "metadata": {
  "kernelspec": {
   "display_name": "Python 3",
   "language": "python",
   "name": "python3"
  },
  "language_info": {
   "codemirror_mode": {
    "name": "ipython",
    "version": 3
   },
   "file_extension": ".py",
   "mimetype": "text/x-python",
   "name": "python",
   "nbconvert_exporter": "python",
   "pygments_lexer": "ipython3",
   "version": "3.7.4"
  }
 },
 "nbformat": 4,
 "nbformat_minor": 2
}
