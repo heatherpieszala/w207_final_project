{
 "cells": [
  {
   "cell_type": "code",
   "execution_count": 1,
   "metadata": {},
   "outputs": [],
   "source": [
    "import pandas as pd\n",
    "import datetime\n",
    "import os\n",
    "import re\n",
    "import flair"
   ]
  },
  {
   "cell_type": "code",
   "execution_count": 2,
   "metadata": {},
   "outputs": [
    {
     "name": "stdout",
     "output_type": "stream",
     "text": [
      "2021-07-05 13:51:21,651 loading file /Users/davidmpeletz/.flair/models/sentiment-en-mix-distillbert_4.pt\n"
     ]
    }
   ],
   "source": [
    "sentiment_model = flair.models.TextClassifier.load('en-sentiment')"
   ]
  },
  {
   "cell_type": "code",
   "execution_count": 3,
   "metadata": {},
   "outputs": [],
   "source": [
    "def clean_tweet(tweet):\n",
    "    whitespace = re.compile(r\"\\s+\")\n",
    "    web_address = re.compile(r\"(?i)http(s):\\/\\/[a-z0-9.~_\\-\\/]+\")\n",
    "    # tesla = re.compile(r\"(?i)@Tesla(?=\\b)\")\n",
    "    user = re.compile(r\"(?i)@[a-z0-9_]+\")\n",
    "\n",
    "    # we then use the sub method to replace anything matching\n",
    "#     tweet = ex_sentence\n",
    "    tweet = whitespace.sub(' ', tweet)\n",
    "    tweet = web_address.sub('', tweet)\n",
    "#     tweet = tesla.sub('Tesla', tweet)\n",
    "    tweet = user.sub('', tweet)\n",
    "    \n",
    "    return tweet\n",
    "\n",
    "\n",
    "def predict_sentiment(input_tweet):\n",
    "    sentence = flair.data.Sentence(input_tweet)\n",
    "    sentiment_model.predict(sentence)\n",
    "#     return sentence.labels[0].value\n",
    "    return sentence.labels[0]\n",
    "\n",
    "def get_sentiment_score(input_tweet):\n",
    "    sentence = flair.data.Sentence(input_tweet)\n",
    "    sentiment_model.predict(sentence)\n",
    "    return sentence.labels[0].score\n",
    "\n"
   ]
  },
  {
   "cell_type": "code",
   "execution_count": 4,
   "metadata": {},
   "outputs": [],
   "source": [
    "cd = os.getcwd()\n",
    "processed_data_directory_path = \"/\".join(cd.split(\"/\")[:-1]) + \"/data/processed/\""
   ]
  },
  {
   "cell_type": "code",
   "execution_count": 5,
   "metadata": {},
   "outputs": [
    {
     "name": "stderr",
     "output_type": "stream",
     "text": [
      "/Library/Frameworks/Python.framework/Versions/3.7/lib/python3.7/site-packages/ipykernel_launcher.py:6: SettingWithCopyWarning: \n",
      "A value is trying to be set on a copy of a slice from a DataFrame.\n",
      "Try using .loc[row_indexer,col_indexer] = value instead\n",
      "\n",
      "See the caveats in the documentation: https://pandas.pydata.org/pandas-docs/stable/user_guide/indexing.html#returning-a-view-versus-a-copy\n",
      "  \n",
      "/Library/Frameworks/Python.framework/Versions/3.7/lib/python3.7/site-packages/ipykernel_launcher.py:8: SettingWithCopyWarning: \n",
      "A value is trying to be set on a copy of a slice from a DataFrame.\n",
      "Try using .loc[row_indexer,col_indexer] = value instead\n",
      "\n",
      "See the caveats in the documentation: https://pandas.pydata.org/pandas-docs/stable/user_guide/indexing.html#returning-a-view-versus-a-copy\n",
      "  \n",
      "/Library/Frameworks/Python.framework/Versions/3.7/lib/python3.7/site-packages/ipykernel_launcher.py:10: SettingWithCopyWarning: \n",
      "A value is trying to be set on a copy of a slice from a DataFrame.\n",
      "Try using .loc[row_indexer,col_indexer] = value instead\n",
      "\n",
      "See the caveats in the documentation: https://pandas.pydata.org/pandas-docs/stable/user_guide/indexing.html#returning-a-view-versus-a-copy\n",
      "  # Remove the CWD from sys.path while we load stuff.\n"
     ]
    }
   ],
   "source": [
    "full_tweet_df = pd.read_csv(processed_data_directory_path + \"processed_stock_tweet_data.csv\")\n",
    "full_tweet_df = full_tweet_df.drop(columns=[\"Unnamed: 0\"])\n",
    "\n",
    "test_df = full_tweet_df[:10]\n",
    "\n",
    "test_df[\"clean_tweet\"] = test_df[\"body\"].apply(clean_tweet)\n",
    "\n",
    "test_df[\"sentiment\"] = test_df[\"clean_tweet\"].apply(predict_sentiment)\n",
    "\n",
    "test_df[\"sentiment_score\"] = test_df[\"clean_tweet\"].apply(get_sentiment_score)"
   ]
  }
 ],
 "metadata": {
  "kernelspec": {
   "display_name": "Python 3",
   "language": "python",
   "name": "python3"
  },
  "language_info": {
   "codemirror_mode": {
    "name": "ipython",
    "version": 3
   },
   "file_extension": ".py",
   "mimetype": "text/x-python",
   "name": "python",
   "nbconvert_exporter": "python",
   "pygments_lexer": "ipython3",
   "version": "3.7.4"
  }
 },
 "nbformat": 4,
 "nbformat_minor": 2
}
