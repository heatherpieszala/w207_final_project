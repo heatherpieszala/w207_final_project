{
 "cells": [
  {
   "cell_type": "code",
   "execution_count": 1,
   "metadata": {},
   "outputs": [],
   "source": [
    "import pandas as pd\n",
    "import datetime\n",
    "import os\n",
    "import re\n",
    "import flair\n",
    "import matplotlib.pyplot as plt\n",
    "import numpy as np\n",
    "import matplotlib.dates as mdates\n"
   ]
  },
  {
   "cell_type": "code",
   "execution_count": 2,
   "metadata": {},
   "outputs": [],
   "source": [
    "cd = os.getcwd()\n",
    "processed_data_directory_path = \"/\".join(cd.split(\"/\")[:-1]) + \"/data/processed/\""
   ]
  },
  {
   "cell_type": "code",
   "execution_count": 3,
   "metadata": {},
   "outputs": [],
   "source": [
    "clean_df = pd.read_csv(processed_data_directory_path + \"cleaned_data.csv\")\n",
    "clean_df = clean_df.drop(columns=[\"Unnamed: 0\"])"
   ]
  },
  {
   "cell_type": "markdown",
   "metadata": {},
   "source": [
    "# EDA"
   ]
  },
  {
   "cell_type": "code",
   "execution_count": null,
   "metadata": {
    "scrolled": false
   },
   "outputs": [],
   "source": [
    "fig, axes = plt.subplots(6, 1, sharex=True)\n",
    "plt.subplots_adjust(top = 0.99, bottom=0.01, hspace=1.5, wspace=0.4)\n",
    "fig.set_size_inches(12, 10)\n",
    "\n",
    "for i, ticker in enumerate(clean_df[\"ticker_symbol\"].unique()):\n",
    "\n",
    "    open_values = clean_df.loc[clean_df[\"ticker_symbol\"] == ticker][\"open_value\"]\n",
    "    day_values = clean_df.loc[clean_df[\"ticker_symbol\"] == ticker][\"day_date\"]\n",
    "    \n",
    "    axes[i].plot(day_values, open_values)  \n",
    "    axes[i].xaxis.set_major_locator(mdates.YearLocator())   #to get a tick every 15 minutes\n",
    "#     axes[i].set_ylim(0, 2000)\n",
    "    axes[i].set_ylabel(\"{} Stock Price\".format(ticker))\n",
    "    \n",
    "plt.show()\n"
   ]
  },
  {
   "cell_type": "code",
   "execution_count": null,
   "metadata": {},
   "outputs": [],
   "source": [
    "open_value_data = [clean_df.loc[clean_df[\"ticker_symbol\"] == ticker][\"open_value\"] for ticker in clean_df[\"ticker_symbol\"].unique()]\n",
    "labels = list(clean_df[\"ticker_symbol\"].unique())"
   ]
  },
  {
   "cell_type": "code",
   "execution_count": null,
   "metadata": {
    "scrolled": true
   },
   "outputs": [],
   "source": [
    "fig, ax = plt.subplots()\n",
    "ax.set_title('Boxplots of Stock Open Values')\n",
    "ax.boxplot(open_value_data)\n",
    "ranges = [i for i in range(1, 7)]\n",
    "plt.xticks(ranges, labels, size='small')\n",
    "\n",
    "plt.show()"
   ]
  },
  {
   "cell_type": "markdown",
   "metadata": {},
   "source": [
    "# Sentiment Classification"
   ]
  },
  {
   "cell_type": "code",
   "execution_count": null,
   "metadata": {},
   "outputs": [],
   "source": [
    "sentiment_model = flair.models.TextClassifier.load('en-sentiment')"
   ]
  },
  {
   "cell_type": "code",
   "execution_count": null,
   "metadata": {},
   "outputs": [],
   "source": []
  },
  {
   "cell_type": "code",
   "execution_count": null,
   "metadata": {},
   "outputs": [],
   "source": [
    "def clean_tweet(tweet):\n",
    "    whitespace = re.compile(r\"\\s+\")\n",
    "    web_address = re.compile(r\"(?i)http(s):\\/\\/[a-z0-9.~_\\-\\/]+\")\n",
    "    # tesla = re.compile(r\"(?i)@Tesla(?=\\b)\")\n",
    "    user = re.compile(r\"(?i)@[a-z0-9_]+\")\n",
    "\n",
    "    # we then use the sub method to replace anything matching\n",
    "#     tweet = ex_sentence\n",
    "    tweet = whitespace.sub(' ', tweet)\n",
    "    tweet = web_address.sub('', tweet)\n",
    "#     tweet = tesla.sub('Tesla', tweet)\n",
    "    tweet = user.sub('', tweet)\n",
    "    \n",
    "    return tweet\n",
    "\n",
    "\n",
    "def predict_sentiment(input_tweet):\n",
    "    sentence = flair.data.Sentence(input_tweet)\n",
    "    sentiment_model.predict(sentence)\n",
    "#     return sentence.labels[0].value\n",
    "    return sentence.labels[0]\n",
    "\n",
    "def get_sentiment_score(input_tweet):\n",
    "    sentence = flair.data.Sentence(input_tweet)\n",
    "    sentiment_model.predict(sentence)\n",
    "    return sentence.labels[0].score\n",
    "\n"
   ]
  },
  {
   "cell_type": "code",
   "execution_count": null,
   "metadata": {},
   "outputs": [],
   "source": [
    "# full_tweet_df = pd.read_csv(processed_data_directory_path + \"processed_stock_tweet_data.csv\")\n",
    "# full_tweet_df = full_tweet_df.drop(columns=[\"Unnamed: 0\"])\n",
    "\n",
    "# test_df = full_tweet_df[:10]\n",
    "\n",
    "# test_df[\"clean_tweet\"] = test_df[\"body\"].apply(clean_tweet)\n",
    "\n",
    "# test_df[\"sentiment\"] = test_df[\"clean_tweet\"].apply(predict_sentiment)\n",
    "\n",
    "# test_df[\"sentiment_score\"] = test_df[\"clean_tweet\"].apply(get_sentiment_score)"
   ]
  },
  {
   "cell_type": "code",
   "execution_count": null,
   "metadata": {},
   "outputs": [],
   "source": [
    "# test_df"
   ]
  },
  {
   "cell_type": "code",
   "execution_count": null,
   "metadata": {},
   "outputs": [],
   "source": []
  }
 ],
 "metadata": {
  "kernelspec": {
   "display_name": "Python 3",
   "language": "python",
   "name": "python3"
  },
  "language_info": {
   "codemirror_mode": {
    "name": "ipython",
    "version": 3
   },
   "file_extension": ".py",
   "mimetype": "text/x-python",
   "name": "python",
   "nbconvert_exporter": "python",
   "pygments_lexer": "ipython3",
   "version": "3.7.4"
  }
 },
 "nbformat": 4,
 "nbformat_minor": 2
}
