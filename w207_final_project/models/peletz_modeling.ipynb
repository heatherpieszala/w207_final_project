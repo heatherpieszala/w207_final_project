{
 "cells": [
  {
   "cell_type": "code",
   "execution_count": 1,
   "metadata": {},
   "outputs": [],
   "source": [
    "import pandas as pd\n",
    "from sklearn.model_selection import train_test_split\n",
    "import os\n",
    "import numpy as np\n",
    "from sklearn.linear_model import LinearRegression\n",
    "from sklearn.preprocessing import OneHotEncoder\n",
    "from sklearn.metrics import explained_variance_score\n",
    "from sklearn.metrics import mean_squared_error\n",
    "import math\n",
    "from sklearn.metrics import mean_absolute_error\n",
    "import featuretools as ft"
   ]
  },
  {
   "cell_type": "markdown",
   "metadata": {},
   "source": [
    "# Functions"
   ]
  },
  {
   "cell_type": "code",
   "execution_count": 2,
   "metadata": {},
   "outputs": [],
   "source": [
    "def get_evaluation_metrics(y_true, y_pred, model_type=None):\n",
    "    if model_type: \n",
    "        print(\"Model Type: {}\".format(model_type))\n",
    "    print(\"\\tMSE: {:.4f}\".format(mean_squared_error(y_true, y_pred)))\n",
    "    print(\"\\tRMSE: {:.4f}\".format(math.sqrt(mean_squared_error(y_true, y_pred))))\n",
    "    print(\"\\tExplained Variance Score: {:.4f}\".format(explained_variance_score(y_true, y_pred)))\n",
    "    print(\"\\tMAE: {:.4f}\\n==========\".format(mean_absolute_error(y_true, y_pred)))\n",
    "    \n",
    "def get_data_split_by_ticker(feature_set):\n",
    "    aapl = feature_set.loc[feature_set[\"ticker_symbol\"]==\"AAPL\"]\n",
    "    amzn = feature_set.loc[feature_set[\"ticker_symbol\"]==\"AMZN\"]\n",
    "    goog = feature_set.loc[feature_set[\"ticker_symbol\"]==\"GOOG\"]\n",
    "    googl = feature_set.loc[feature_set[\"ticker_symbol\"]==\"GOOGL\"]\n",
    "    msft = feature_set.loc[feature_set[\"ticker_symbol\"]==\"MSFT\"]\n",
    "    tsla = feature_set.loc[feature_set[\"ticker_symbol\"]==\"TSLA\"]\n",
    "    return aapl, amzn, goog, googl, msft, tsla\n"
   ]
  },
  {
   "cell_type": "markdown",
   "metadata": {},
   "source": [
    "# Load data"
   ]
  },
  {
   "cell_type": "code",
   "execution_count": 3,
   "metadata": {},
   "outputs": [],
   "source": [
    "cd = os.getcwd()\n",
    "raw_data_directory_path = \"/\".join(cd.split(\"/\")[:-1]) + \"/data/raw/\"\n",
    "processed_data_directory_path = \"/\".join(cd.split(\"/\")[:-1]) + \"/data/processed/\"\n",
    "weekly_data = pd.read_csv(processed_data_directory_path + \"weekly_data.csv\")"
   ]
  },
  {
   "cell_type": "markdown",
   "metadata": {},
   "source": [
    "# Weekly linear regression `close_value` model"
   ]
  },
  {
   "cell_type": "code",
   "execution_count": 4,
   "metadata": {},
   "outputs": [],
   "source": [
    "def build_lr_model_one():\n",
    "    current_features_indices = [0, 6, 7, 8, 9, 10, 11, 12, 14, 15]\n",
    "\n",
    "    features = weekly_data.iloc[:, current_features_indices]\n",
    "    response_variable = weekly_data.iloc[:, 5]\n",
    "\n",
    "    current_features = pd.get_dummies(features, prefix='ticker')\n",
    "\n",
    "    X_train, X_test, y_train, y_test = train_test_split(current_features, response_variable, test_size=0.25, random_state=42)\n",
    "\n",
    "    reg = LinearRegression().fit(X_train, y_train)\n",
    "    y_pred = reg.predict(X_test)\n",
    "\n",
    "    get_evaluation_metrics(y_test, y_pred)"
   ]
  },
  {
   "cell_type": "code",
   "execution_count": 5,
   "metadata": {},
   "outputs": [
    {
     "name": "stdout",
     "output_type": "stream",
     "text": [
      "\tMSE: 48093.9168\n",
      "\tRMSE: 219.3033\n",
      "\tExplained Variance Score: 0.7985\n",
      "\tMAE: 154.0412\n",
      "==========\n"
     ]
    }
   ],
   "source": [
    "build_lr_model_one()"
   ]
  },
  {
   "cell_type": "markdown",
   "metadata": {},
   "source": [
    "# Weekly linear regression `close_value` combined model"
   ]
  },
  {
   "cell_type": "code",
   "execution_count": 6,
   "metadata": {},
   "outputs": [],
   "source": [
    "def build_lr_model_two():\n",
    "    aapl, amzn, goog, googl, msft, tsla = get_data_split_by_ticker(weekly_data)\n",
    "\n",
    "    current_feature_indices = [6, 7, 8, 9, 10, 11, 12, 14, 15]\n",
    "\n",
    "    aapl_features = aapl.iloc[:, current_feature_indices]\n",
    "    aapl_rv = aapl.iloc[:, 5]\n",
    "\n",
    "    amzn_features = amzn.iloc[:, current_feature_indices]\n",
    "    amzn_rv = amzn.iloc[:, 5]\n",
    "\n",
    "    goog_features = goog.iloc[:, current_feature_indices]\n",
    "    goog_rv = goog.iloc[:, 5]\n",
    "\n",
    "    googl_features = googl.iloc[:, current_feature_indices]\n",
    "    googl_rv = googl.iloc[:, 5]\n",
    "\n",
    "    msft_features = msft.iloc[:, current_feature_indices]\n",
    "    msft_rv = msft.iloc[:, 5]\n",
    "\n",
    "    tsla_features = tsla.iloc[:, current_feature_indices]\n",
    "    tsla_rv = tsla.iloc[:, 5]\n",
    "\n",
    "    X_train_aapl, X_test_aapl, y_train_aapl, y_test_aapl = train_test_split(aapl_features, aapl_rv, test_size=0.25, random_state=42)\n",
    "    X_train_amzn, X_test_amzn, y_train_amzn, y_test_amzn = train_test_split(amzn_features, amzn_rv, test_size=0.25, random_state=42)\n",
    "    X_train_goog, X_test_goog, y_train_goog, y_test_goog = train_test_split(goog_features, goog_rv, test_size=0.25, random_state=42)\n",
    "    X_train_googl, X_test_googl, y_train_googl, y_test_googl = train_test_split(googl_features, googl_rv, test_size=0.25, random_state=42)\n",
    "    X_train_msft, X_test_msft, y_train_msft, y_test_msft = train_test_split(msft_features, msft_rv, test_size=0.25, random_state=42)\n",
    "    X_train_tsla, X_test_tsla, y_train_tsla, y_test_tsla = train_test_split(tsla_features, tsla_rv, test_size=0.25, random_state=42)\n",
    "\n",
    "    reg_aapl = LinearRegression().fit(X_train_aapl, y_train_aapl)\n",
    "    y_pred_aapl = reg_aapl.predict(X_test_aapl)\n",
    "\n",
    "    reg_amzn = LinearRegression().fit(X_train_amzn, y_train_amzn)\n",
    "    y_pred_amzn = reg_amzn.predict(X_test_amzn)\n",
    "\n",
    "    reg_goog = LinearRegression().fit(X_train_goog, y_train_goog)\n",
    "    y_pred_goog = reg_goog.predict(X_test_goog)\n",
    "\n",
    "\n",
    "    reg_googl = LinearRegression().fit(X_train_googl, y_train_googl)\n",
    "    y_pred_googl = reg_googl.predict(X_test_googl)\n",
    "\n",
    "\n",
    "    reg_msft = LinearRegression().fit(X_train_msft, y_train_msft)\n",
    "    y_pred_msft = reg_msft.predict(X_test_msft)\n",
    "\n",
    "    reg_tsla = LinearRegression().fit(X_train_tsla, y_train_tsla)\n",
    "    y_pred_tsla = reg_tsla.predict(X_test_tsla)\n",
    "\n",
    "    all_ticker_true = y_test_aapl + y_test_amzn + y_test_goog + y_test_googl + y_test_msft + y_test_tsla\n",
    "\n",
    "    all_ticker_true = pd.concat([y_test_aapl, y_test_amzn, y_test_goog, y_test_googl, y_test_msft, y_test_tsla])\n",
    "    all_ticker_pred = np.concatenate([y_pred_aapl, y_pred_amzn, y_pred_goog, y_pred_googl, y_pred_msft, y_pred_tsla])\n",
    "\n",
    "    get_evaluation_metrics(all_ticker_true, all_ticker_pred, \"Combined Ticker Models\")\n"
   ]
  },
  {
   "cell_type": "code",
   "execution_count": 7,
   "metadata": {},
   "outputs": [
    {
     "name": "stdout",
     "output_type": "stream",
     "text": [
      "Model Type: Combined Ticker Models\n",
      "\tMSE: 14760.5070\n",
      "\tRMSE: 121.4928\n",
      "\tExplained Variance Score: 0.9396\n",
      "\tMAE: 76.5480\n",
      "==========\n"
     ]
    }
   ],
   "source": [
    "build_lr_model_two()"
   ]
  },
  {
   "cell_type": "markdown",
   "metadata": {},
   "source": [
    "### Between the two model types, it appears that there's a pretty significant performance boost when switching to a model that combines models for each `ticker_symbol`. All metrics seem to be worse for the model that uses `ticker_symbol` as a feature. "
   ]
  },
  {
   "cell_type": "markdown",
   "metadata": {},
   "source": [
    "#### Note: performance increase may be due to stratification of `ticker_symbol` variable rather than due to the different types of models. We should look into this. "
   ]
  },
  {
   "cell_type": "markdown",
   "metadata": {},
   "source": [
    "# Weekly linear regression `close_value`  model without `volume` as feature"
   ]
  },
  {
   "cell_type": "code",
   "execution_count": 8,
   "metadata": {},
   "outputs": [],
   "source": [
    "def build_lr_model_three():\n",
    "    current_features_indices = [0, 7, 8, 9, 10, 11, 12, 14, 15]\n",
    "\n",
    "    features = weekly_data.iloc[:, current_features_indices]\n",
    "    response_variable = weekly_data.iloc[:, 5]\n",
    "\n",
    "    current_features = pd.get_dummies(features, prefix='ticker')\n",
    "\n",
    "    X_train, X_test, y_train, y_test = train_test_split(current_features, response_variable, test_size=0.25, random_state=42)\n",
    "\n",
    "    reg = LinearRegression().fit(X_train, y_train)\n",
    "    y_pred = reg.predict(X_test)\n",
    "\n",
    "    get_evaluation_metrics(y_test, y_pred)"
   ]
  },
  {
   "cell_type": "code",
   "execution_count": 9,
   "metadata": {
    "scrolled": true
   },
   "outputs": [
    {
     "name": "stdout",
     "output_type": "stream",
     "text": [
      "\tMSE: 48281.0135\n",
      "\tRMSE: 219.7294\n",
      "\tExplained Variance Score: 0.7978\n",
      "\tMAE: 155.3529\n",
      "==========\n"
     ]
    }
   ],
   "source": [
    "build_lr_model_three()"
   ]
  },
  {
   "cell_type": "markdown",
   "metadata": {},
   "source": [
    "# Weekly linear regression `close_value` combined model without `volume` as feature"
   ]
  },
  {
   "cell_type": "code",
   "execution_count": 10,
   "metadata": {},
   "outputs": [],
   "source": [
    "def build_lr_model_four():\n",
    "    aapl, amzn, goog, googl, msft, tsla = get_data_split_by_ticker(weekly_data)\n",
    "\n",
    "    current_feature_indices = [7, 8, 9, 10, 11, 12, 14, 15]\n",
    "\n",
    "    aapl_features = aapl.iloc[:, current_feature_indices]\n",
    "    aapl_rv = aapl.iloc[:, 5]\n",
    "\n",
    "    amzn_features = amzn.iloc[:, current_feature_indices]\n",
    "    amzn_rv = amzn.iloc[:, 5]\n",
    "\n",
    "    goog_features = goog.iloc[:, current_feature_indices]\n",
    "    goog_rv = goog.iloc[:, 5]\n",
    "\n",
    "    googl_features = googl.iloc[:, current_feature_indices]\n",
    "    googl_rv = googl.iloc[:, 5]\n",
    "\n",
    "    msft_features = msft.iloc[:, current_feature_indices]\n",
    "    msft_rv = msft.iloc[:, 5]\n",
    "\n",
    "    tsla_features = tsla.iloc[:, current_feature_indices]\n",
    "    tsla_rv = tsla.iloc[:, 5]\n",
    "\n",
    "    X_train_aapl, X_test_aapl, y_train_aapl, y_test_aapl = train_test_split(aapl_features, aapl_rv, test_size=0.25, random_state=42)\n",
    "    X_train_amzn, X_test_amzn, y_train_amzn, y_test_amzn = train_test_split(amzn_features, amzn_rv, test_size=0.25, random_state=42)\n",
    "    X_train_goog, X_test_goog, y_train_goog, y_test_goog = train_test_split(goog_features, goog_rv, test_size=0.25, random_state=42)\n",
    "    X_train_googl, X_test_googl, y_train_googl, y_test_googl = train_test_split(googl_features, googl_rv, test_size=0.25, random_state=42)\n",
    "    X_train_msft, X_test_msft, y_train_msft, y_test_msft = train_test_split(msft_features, msft_rv, test_size=0.25, random_state=42)\n",
    "    X_train_tsla, X_test_tsla, y_train_tsla, y_test_tsla = train_test_split(tsla_features, tsla_rv, test_size=0.25, random_state=42)\n",
    "\n",
    "    reg_aapl = LinearRegression().fit(X_train_aapl, y_train_aapl)\n",
    "    y_pred_aapl = reg_aapl.predict(X_test_aapl)\n",
    "\n",
    "    reg_amzn = LinearRegression().fit(X_train_amzn, y_train_amzn)\n",
    "    y_pred_amzn = reg_amzn.predict(X_test_amzn)\n",
    "\n",
    "    reg_goog = LinearRegression().fit(X_train_goog, y_train_goog)\n",
    "    y_pred_goog = reg_goog.predict(X_test_goog)\n",
    "\n",
    "\n",
    "    reg_googl = LinearRegression().fit(X_train_googl, y_train_googl)\n",
    "    y_pred_googl = reg_googl.predict(X_test_googl)\n",
    "\n",
    "\n",
    "    reg_msft = LinearRegression().fit(X_train_msft, y_train_msft)\n",
    "    y_pred_msft = reg_msft.predict(X_test_msft)\n",
    "\n",
    "    reg_tsla = LinearRegression().fit(X_train_tsla, y_train_tsla)\n",
    "    y_pred_tsla = reg_tsla.predict(X_test_tsla)\n",
    "\n",
    "    all_ticker_true = y_test_aapl + y_test_amzn + y_test_goog + y_test_googl + y_test_msft + y_test_tsla\n",
    "\n",
    "    all_ticker_true = pd.concat([y_test_aapl, y_test_amzn, y_test_goog, y_test_googl, y_test_msft, y_test_tsla])\n",
    "    all_ticker_pred = np.concatenate([y_pred_aapl, y_pred_amzn, y_pred_goog, y_pred_googl, y_pred_msft, y_pred_tsla])\n",
    "\n",
    "    get_evaluation_metrics(all_ticker_true, all_ticker_pred, \"Combined Ticker Models\")\n"
   ]
  },
  {
   "cell_type": "code",
   "execution_count": 11,
   "metadata": {},
   "outputs": [
    {
     "name": "stdout",
     "output_type": "stream",
     "text": [
      "Model Type: Combined Ticker Models\n",
      "\tMSE: 15294.3563\n",
      "\tRMSE: 123.6704\n",
      "\tExplained Variance Score: 0.9374\n",
      "\tMAE: 77.9087\n",
      "==========\n"
     ]
    }
   ],
   "source": [
    "build_lr_model_four()"
   ]
  },
  {
   "cell_type": "code",
   "execution_count": null,
   "metadata": {},
   "outputs": [],
   "source": []
  }
 ],
 "metadata": {
  "kernelspec": {
   "display_name": "Python 3",
   "language": "python",
   "name": "python3"
  },
  "language_info": {
   "codemirror_mode": {
    "name": "ipython",
    "version": 3
   },
   "file_extension": ".py",
   "mimetype": "text/x-python",
   "name": "python",
   "nbconvert_exporter": "python",
   "pygments_lexer": "ipython3",
   "version": "3.7.4"
  }
 },
 "nbformat": 4,
 "nbformat_minor": 2
}
