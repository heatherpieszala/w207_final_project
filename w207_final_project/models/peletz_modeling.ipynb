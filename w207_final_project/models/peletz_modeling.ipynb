{
 "cells": [
  {
   "cell_type": "code",
   "execution_count": 1,
   "metadata": {},
   "outputs": [],
   "source": [
    "import pandas as pd\n",
    "from sklearn.model_selection import train_test_split\n",
    "import os\n",
    "import numpy as np\n",
    "from sklearn.linear_model import LinearRegression\n",
    "from sklearn.preprocessing import OneHotEncoder\n",
    "from sklearn.metrics import explained_variance_score\n",
    "from sklearn.metrics import mean_squared_error\n",
    "import math\n",
    "\n",
    "from sklearn.metrics import mean_absolute_error\n",
    "import datetime\n",
    "from sklearn.utils import shuffle\n",
    "from sklearn.linear_model import LogisticRegression\n",
    "from sklearn import metrics\n",
    "from sklearn.metrics import confusion_matrix\n",
    "from sklearn.metrics import classification_report\n",
    "import seaborn as sns\n",
    "import numpy as np\n",
    "import matplotlib.pyplot as plt\n",
    "\n",
    "from sklearn.tree import DecisionTreeClassifier \n",
    "\n",
    "%matplotlib inline"
   ]
  },
  {
   "cell_type": "code",
   "execution_count": 2,
   "metadata": {},
   "outputs": [],
   "source": [
    "np.random.seed(0) # so things are 'random'\n"
   ]
  },
  {
   "cell_type": "markdown",
   "metadata": {},
   "source": [
    "# Functions"
   ]
  },
  {
   "cell_type": "code",
   "execution_count": 3,
   "metadata": {},
   "outputs": [],
   "source": [
    "def get_evaluation_metrics(y_true, y_pred, model_type=None):\n",
    "    if model_type: \n",
    "        print(\"Model Type: {}\".format(model_type))\n",
    "    print(\"\\tMSE: {:.4f}\".format(mean_squared_error(y_true, y_pred)))\n",
    "    print(\"\\tRMSE: {:.4f}\".format(math.sqrt(mean_squared_error(y_true, y_pred))))\n",
    "    print(\"\\tExplained Variance Score: {:.4f}\".format(explained_variance_score(y_true, y_pred)))\n",
    "    print(\"\\tMAE: {:.4f}\\n==========\".format(mean_absolute_error(y_true, y_pred)))\n",
    "    \n",
    "def get_data_split_by_ticker(feature_set):\n",
    "    aapl = feature_set.loc[feature_set[\"ticker_symbol\"]==\"AAPL\"]\n",
    "    amzn = feature_set.loc[feature_set[\"ticker_symbol\"]==\"AMZN\"]\n",
    "    goog = feature_set.loc[feature_set[\"ticker_symbol\"]==\"GOOG\"]\n",
    "    googl = feature_set.loc[feature_set[\"ticker_symbol\"]==\"GOOGL\"]\n",
    "    msft = feature_set.loc[feature_set[\"ticker_symbol\"]==\"MSFT\"]\n",
    "    tsla = feature_set.loc[feature_set[\"ticker_symbol\"]==\"TSLA\"]\n",
    "    return aapl, amzn, goog, googl, msft, tsla\n",
    "\n",
    "\n",
    "def clean_dataset(df):\n",
    "    assert isinstance(df, pd.DataFrame), \"df needs to be a pd.DataFrame\"\n",
    "    df.dropna(inplace=True)\n",
    "    indices_to_keep = ~df.isin([np.nan, np.inf, -np.inf]).any(1)\n",
    "    return df[indices_to_keep].astype(np.float64)\n"
   ]
  },
  {
   "cell_type": "markdown",
   "metadata": {},
   "source": [
    "# Load data"
   ]
  },
  {
   "cell_type": "code",
   "execution_count": 4,
   "metadata": {},
   "outputs": [],
   "source": [
    "cd = os.getcwd()\n",
    "raw_data_directory_path = \"/\".join(cd.split(\"/\")[:-1]) + \"/data/raw/\"\n",
    "processed_data_directory_path = \"/\".join(cd.split(\"/\")[:-1]) + \"/data/processed/\"\n",
    "weekly_data = pd.read_csv(processed_data_directory_path + \"weekly_data.csv\")"
   ]
  },
  {
   "cell_type": "markdown",
   "metadata": {},
   "source": [
    "# Weekly linear regression `close_value` model"
   ]
  },
  {
   "cell_type": "code",
   "execution_count": 5,
   "metadata": {},
   "outputs": [],
   "source": [
    "# notes: look into removing extra columns (negative, positive, ratio_neg)\n",
    "# try with daily data\n",
    "# try PCA"
   ]
  },
  {
   "cell_type": "code",
   "execution_count": 6,
   "metadata": {},
   "outputs": [],
   "source": [
    "def build_lr_model_one():\n",
    "    current_features_indices = [0, 6, 7, 8, 9, 10, 11, 12, 14, 15]\n",
    "\n",
    "    features = weekly_data.iloc[:, current_features_indices]\n",
    "    response_variable = weekly_data.iloc[:, 5]\n",
    "\n",
    "    current_features = pd.get_dummies(features, prefix='ticker')\n",
    "\n",
    "    X_train, X_test, y_train, y_test = train_test_split(current_features, response_variable, test_size=0.25, random_state=42)\n",
    "\n",
    "    reg = LinearRegression().fit(X_train, y_train)\n",
    "    y_pred = reg.predict(X_test)\n",
    "\n",
    "    get_evaluation_metrics(y_test, y_pred)"
   ]
  },
  {
   "cell_type": "code",
   "execution_count": 7,
   "metadata": {},
   "outputs": [
    {
     "name": "stdout",
     "output_type": "stream",
     "text": [
      "\tMSE: 48093.9168\n",
      "\tRMSE: 219.3033\n",
      "\tExplained Variance Score: 0.7985\n",
      "\tMAE: 154.0412\n",
      "==========\n"
     ]
    }
   ],
   "source": [
    "build_lr_model_one()"
   ]
  },
  {
   "cell_type": "markdown",
   "metadata": {},
   "source": [
    "# Weekly linear regression `close_value` combined model"
   ]
  },
  {
   "cell_type": "code",
   "execution_count": 8,
   "metadata": {},
   "outputs": [],
   "source": [
    "def build_lr_model_two():\n",
    "    aapl, amzn, goog, googl, msft, tsla = get_data_split_by_ticker(weekly_data)\n",
    "\n",
    "    current_feature_indices = [6, 7, 8, 9, 10, 11, 12, 14, 15]\n",
    "\n",
    "    aapl_features = aapl.iloc[:, current_feature_indices]\n",
    "    aapl_rv = aapl.iloc[:, 5]\n",
    "\n",
    "    amzn_features = amzn.iloc[:, current_feature_indices]\n",
    "    amzn_rv = amzn.iloc[:, 5]\n",
    "\n",
    "    goog_features = goog.iloc[:, current_feature_indices]\n",
    "    goog_rv = goog.iloc[:, 5]\n",
    "\n",
    "    googl_features = googl.iloc[:, current_feature_indices]\n",
    "    googl_rv = googl.iloc[:, 5]\n",
    "\n",
    "    msft_features = msft.iloc[:, current_feature_indices]\n",
    "    msft_rv = msft.iloc[:, 5]\n",
    "\n",
    "    tsla_features = tsla.iloc[:, current_feature_indices]\n",
    "    tsla_rv = tsla.iloc[:, 5]\n",
    "\n",
    "    X_train_aapl, X_test_aapl, y_train_aapl, y_test_aapl = train_test_split(aapl_features, aapl_rv, test_size=0.25, random_state=42)\n",
    "    X_train_amzn, X_test_amzn, y_train_amzn, y_test_amzn = train_test_split(amzn_features, amzn_rv, test_size=0.25, random_state=42)\n",
    "    X_train_goog, X_test_goog, y_train_goog, y_test_goog = train_test_split(goog_features, goog_rv, test_size=0.25, random_state=42)\n",
    "    X_train_googl, X_test_googl, y_train_googl, y_test_googl = train_test_split(googl_features, googl_rv, test_size=0.25, random_state=42)\n",
    "    X_train_msft, X_test_msft, y_train_msft, y_test_msft = train_test_split(msft_features, msft_rv, test_size=0.25, random_state=42)\n",
    "    X_train_tsla, X_test_tsla, y_train_tsla, y_test_tsla = train_test_split(tsla_features, tsla_rv, test_size=0.25, random_state=42)\n",
    "\n",
    "    reg_aapl = LinearRegression().fit(X_train_aapl, y_train_aapl)\n",
    "    y_pred_aapl = reg_aapl.predict(X_test_aapl)\n",
    "\n",
    "    reg_amzn = LinearRegression().fit(X_train_amzn, y_train_amzn)\n",
    "    y_pred_amzn = reg_amzn.predict(X_test_amzn)\n",
    "\n",
    "    reg_goog = LinearRegression().fit(X_train_goog, y_train_goog)\n",
    "    y_pred_goog = reg_goog.predict(X_test_goog)\n",
    "\n",
    "\n",
    "    reg_googl = LinearRegression().fit(X_train_googl, y_train_googl)\n",
    "    y_pred_googl = reg_googl.predict(X_test_googl)\n",
    "\n",
    "\n",
    "    reg_msft = LinearRegression().fit(X_train_msft, y_train_msft)\n",
    "    y_pred_msft = reg_msft.predict(X_test_msft)\n",
    "\n",
    "    reg_tsla = LinearRegression().fit(X_train_tsla, y_train_tsla)\n",
    "    y_pred_tsla = reg_tsla.predict(X_test_tsla)\n",
    "\n",
    "    all_ticker_true = y_test_aapl + y_test_amzn + y_test_goog + y_test_googl + y_test_msft + y_test_tsla\n",
    "\n",
    "    all_ticker_true = pd.concat([y_test_aapl, y_test_amzn, y_test_goog, y_test_googl, y_test_msft, y_test_tsla])\n",
    "    all_ticker_pred = np.concatenate([y_pred_aapl, y_pred_amzn, y_pred_goog, y_pred_googl, y_pred_msft, y_pred_tsla])\n",
    "\n",
    "    get_evaluation_metrics(all_ticker_true, all_ticker_pred, \"Combined Ticker Models\")\n"
   ]
  },
  {
   "cell_type": "code",
   "execution_count": 9,
   "metadata": {},
   "outputs": [
    {
     "name": "stdout",
     "output_type": "stream",
     "text": [
      "Model Type: Combined Ticker Models\n",
      "\tMSE: 14760.5070\n",
      "\tRMSE: 121.4928\n",
      "\tExplained Variance Score: 0.9396\n",
      "\tMAE: 76.5480\n",
      "==========\n"
     ]
    }
   ],
   "source": [
    "build_lr_model_two()"
   ]
  },
  {
   "cell_type": "markdown",
   "metadata": {},
   "source": [
    "### Between the two model types, it appears that there's a pretty significant performance boost when switching to a model that combines models for each `ticker_symbol`. All metrics seem to be worse for the model that uses `ticker_symbol` as a feature. "
   ]
  },
  {
   "cell_type": "markdown",
   "metadata": {},
   "source": [
    "#### Note: performance increase may be due to stratification of `ticker_symbol` variable rather than due to the different types of models. We should look into this. "
   ]
  },
  {
   "cell_type": "markdown",
   "metadata": {},
   "source": [
    "# Weekly linear regression `close_value`  model without `volume` as feature"
   ]
  },
  {
   "cell_type": "code",
   "execution_count": 10,
   "metadata": {},
   "outputs": [],
   "source": [
    "def build_lr_model_three():\n",
    "    current_features_indices = [0, 7, 8, 9, 10, 11, 12, 14, 15]\n",
    "\n",
    "    features = weekly_data.iloc[:, current_features_indices]\n",
    "    response_variable = weekly_data.iloc[:, 5]\n",
    "\n",
    "    current_features = pd.get_dummies(features, prefix='ticker')\n",
    "\n",
    "    X_train, X_test, y_train, y_test = train_test_split(current_features, response_variable, test_size=0.25, random_state=42)\n",
    "\n",
    "    reg = LinearRegression().fit(X_train, y_train)\n",
    "    y_pred = reg.predict(X_test)\n",
    "\n",
    "    get_evaluation_metrics(y_test, y_pred)"
   ]
  },
  {
   "cell_type": "code",
   "execution_count": 11,
   "metadata": {
    "scrolled": true
   },
   "outputs": [
    {
     "name": "stdout",
     "output_type": "stream",
     "text": [
      "\tMSE: 48281.0135\n",
      "\tRMSE: 219.7294\n",
      "\tExplained Variance Score: 0.7978\n",
      "\tMAE: 155.3529\n",
      "==========\n"
     ]
    }
   ],
   "source": [
    "build_lr_model_three()"
   ]
  },
  {
   "cell_type": "markdown",
   "metadata": {},
   "source": [
    "# Weekly linear regression `close_value` combined model without `volume` as feature"
   ]
  },
  {
   "cell_type": "code",
   "execution_count": 12,
   "metadata": {},
   "outputs": [],
   "source": [
    "def build_lr_model_four():\n",
    "    aapl, amzn, goog, googl, msft, tsla = get_data_split_by_ticker(weekly_data)\n",
    "\n",
    "    current_feature_indices = [7, 8, 9, 10, 11, 12, 14, 15]\n",
    "\n",
    "    aapl_features = aapl.iloc[:, current_feature_indices]\n",
    "    aapl_rv = aapl.iloc[:, 5]\n",
    "\n",
    "    amzn_features = amzn.iloc[:, current_feature_indices]\n",
    "    amzn_rv = amzn.iloc[:, 5]\n",
    "\n",
    "    goog_features = goog.iloc[:, current_feature_indices]\n",
    "    goog_rv = goog.iloc[:, 5]\n",
    "\n",
    "    googl_features = googl.iloc[:, current_feature_indices]\n",
    "    googl_rv = googl.iloc[:, 5]\n",
    "\n",
    "    msft_features = msft.iloc[:, current_feature_indices]\n",
    "    msft_rv = msft.iloc[:, 5]\n",
    "\n",
    "    tsla_features = tsla.iloc[:, current_feature_indices]\n",
    "    tsla_rv = tsla.iloc[:, 5]\n",
    "\n",
    "    X_train_aapl, X_test_aapl, y_train_aapl, y_test_aapl = train_test_split(aapl_features, aapl_rv, test_size=0.25, random_state=42)\n",
    "    X_train_amzn, X_test_amzn, y_train_amzn, y_test_amzn = train_test_split(amzn_features, amzn_rv, test_size=0.25, random_state=42)\n",
    "    X_train_goog, X_test_goog, y_train_goog, y_test_goog = train_test_split(goog_features, goog_rv, test_size=0.25, random_state=42)\n",
    "    X_train_googl, X_test_googl, y_train_googl, y_test_googl = train_test_split(googl_features, googl_rv, test_size=0.25, random_state=42)\n",
    "    X_train_msft, X_test_msft, y_train_msft, y_test_msft = train_test_split(msft_features, msft_rv, test_size=0.25, random_state=42)\n",
    "    X_train_tsla, X_test_tsla, y_train_tsla, y_test_tsla = train_test_split(tsla_features, tsla_rv, test_size=0.25, random_state=42)\n",
    "\n",
    "    reg_aapl = LinearRegression().fit(X_train_aapl, y_train_aapl)\n",
    "    y_pred_aapl = reg_aapl.predict(X_test_aapl)\n",
    "\n",
    "    reg_amzn = LinearRegression().fit(X_train_amzn, y_train_amzn)\n",
    "    y_pred_amzn = reg_amzn.predict(X_test_amzn)\n",
    "\n",
    "    reg_goog = LinearRegression().fit(X_train_goog, y_train_goog)\n",
    "    y_pred_goog = reg_goog.predict(X_test_goog)\n",
    "\n",
    "\n",
    "    reg_googl = LinearRegression().fit(X_train_googl, y_train_googl)\n",
    "    y_pred_googl = reg_googl.predict(X_test_googl)\n",
    "\n",
    "\n",
    "    reg_msft = LinearRegression().fit(X_train_msft, y_train_msft)\n",
    "    y_pred_msft = reg_msft.predict(X_test_msft)\n",
    "\n",
    "    reg_tsla = LinearRegression().fit(X_train_tsla, y_train_tsla)\n",
    "    y_pred_tsla = reg_tsla.predict(X_test_tsla)\n",
    "\n",
    "#     all_ticker_true = y_test_aapl + y_test_amzn + y_test_goog + y_test_googl + y_test_msft + y_test_tsla\n",
    "\n",
    "    all_ticker_true = pd.concat([y_test_aapl, y_test_amzn, y_test_goog, y_test_googl, y_test_msft, y_test_tsla])\n",
    "    all_ticker_pred = np.concatenate([y_pred_aapl, y_pred_amzn, y_pred_goog, y_pred_googl, y_pred_msft, y_pred_tsla])\n",
    "\n",
    "    get_evaluation_metrics(all_ticker_true, all_ticker_pred, \"Combined Ticker Models\")\n"
   ]
  },
  {
   "cell_type": "code",
   "execution_count": 13,
   "metadata": {
    "scrolled": true
   },
   "outputs": [
    {
     "name": "stdout",
     "output_type": "stream",
     "text": [
      "Model Type: Combined Ticker Models\n",
      "\tMSE: 15294.3563\n",
      "\tRMSE: 123.6704\n",
      "\tExplained Variance Score: 0.9374\n",
      "\tMAE: 77.9087\n",
      "==========\n"
     ]
    }
   ],
   "source": [
    "build_lr_model_four()"
   ]
  },
  {
   "cell_type": "code",
   "execution_count": 14,
   "metadata": {},
   "outputs": [],
   "source": [
    "daily_df = pd.read_csv(processed_data_directory_path + 'daily_data.csv')\n",
    "daily_df['price_indicator'] = daily_df['pct_change'].apply(lambda c: 1 if c > 0 else 0)\n"
   ]
  },
  {
   "cell_type": "markdown",
   "metadata": {},
   "source": [
    "# Classification Models: "
   ]
  },
  {
   "cell_type": "code",
   "execution_count": 15,
   "metadata": {},
   "outputs": [],
   "source": [
    "def build_logistic_regression_model_one():\n",
    "    current_features_indices = [0, 6, 7, 8, 9, 10, 11, 12, 14, 15]\n",
    "\n",
    "#     df_shuffled = shuffle(daily_df)\n",
    "#     num_train = int(len(df_shuffled)/4)*3\n",
    "#     num_test = int(num_train + num_train/2)\n",
    "\n",
    "    features = daily_df.iloc[:, current_features_indices]\n",
    "    response_variable = daily_df.iloc[:, -1]\n",
    "    current_features = pd.get_dummies(features, prefix='ticker')\n",
    "\n",
    "\n",
    "    X = current_features\n",
    "    y = response_variable\n",
    "    combined = current_features\n",
    "    combined[\"rv\"] = response_variable\n",
    "    combined = clean_dataset(combined)\n",
    "    current_features, response_variable = combined.iloc[:, :-1], combined.iloc[:, -1]\n",
    "\n",
    "    X_train, X_test, y_train, y_test = train_test_split(current_features, response_variable, test_size=0.25, random_state=42)\n",
    "\n",
    "    logreg = LogisticRegression()\n",
    "    logreg.fit(X_train, y_train)\n",
    "    y_pred = logreg.predict(X_test)\n",
    "\n",
    "    get_classification_metrics(y_test, y_pred, X_test, logreg)\n"
   ]
  },
  {
   "cell_type": "code",
   "execution_count": 16,
   "metadata": {},
   "outputs": [],
   "source": [
    "def get_classification_metrics(current_y_test, current_y_pred, current_X_test, logreg=None):\n",
    "    y_test, y_pred, X_test = current_y_test, current_y_pred, current_X_test\n",
    "    if logreg: \n",
    "        print('Accuracy of logistic regression classifier on test set: {:.2f}'.format(logreg.score(X_test, y_test)))\n",
    "    cnf_matrix = metrics.confusion_matrix(y_test, y_pred)\n",
    "\n",
    "    class_names=[0,1] # name  of classes\n",
    "    fig, ax = plt.subplots()\n",
    "    tick_marks = np.arange(len(class_names))\n",
    "    plt.xticks(tick_marks, class_names)\n",
    "    plt.yticks(tick_marks, class_names)\n",
    "    # create heatmap\n",
    "    sns.heatmap(pd.DataFrame(cnf_matrix), annot=True, cmap=\"YlGnBu\" ,fmt='g')\n",
    "    ax.xaxis.set_label_position(\"top\")\n",
    "    plt.tight_layout()\n",
    "    plt.title('Confusion matrix', y=1.1)\n",
    "    plt.ylabel('Actual label')\n",
    "    plt.xlabel('Predicted label')\n",
    "\n",
    "    print(classification_report(y_test, y_pred))\n",
    "\n",
    "    print(\"Accuracy:\",metrics.accuracy_score(y_test, y_pred))\n",
    "    print(\"Precision:\",metrics.precision_score(y_test, y_pred))\n",
    "    print(\"Recall:\",metrics.recall_score(y_test, y_pred))"
   ]
  },
  {
   "cell_type": "code",
   "execution_count": 17,
   "metadata": {
    "scrolled": false
   },
   "outputs": [
    {
     "name": "stdout",
     "output_type": "stream",
     "text": [
      "Accuracy of logistic regression classifier on test set: 0.63\n"
     ]
    },
    {
     "name": "stderr",
     "output_type": "stream",
     "text": [
      "/Library/Frameworks/Python.framework/Versions/3.7/lib/python3.7/site-packages/sklearn/linear_model/logistic.py:432: FutureWarning: Default solver will be changed to 'lbfgs' in 0.22. Specify a solver to silence this warning.\n",
      "  FutureWarning)\n",
      "/Library/Frameworks/Python.framework/Versions/3.7/lib/python3.7/site-packages/sklearn/metrics/classification.py:1437: UndefinedMetricWarning: Precision and F-score are ill-defined and being set to 0.0 in labels with no predicted samples.\n",
      "  'precision', 'predicted', average, warn_for)\n",
      "/Library/Frameworks/Python.framework/Versions/3.7/lib/python3.7/site-packages/sklearn/metrics/classification.py:1437: UndefinedMetricWarning: Precision is ill-defined and being set to 0.0 due to no predicted samples.\n",
      "  'precision', 'predicted', average, warn_for)\n"
     ]
    },
    {
     "name": "stdout",
     "output_type": "stream",
     "text": [
      "              precision    recall  f1-score   support\n",
      "\n",
      "         0.0       0.63      1.00      0.78      1733\n",
      "         1.0       0.00      0.00      0.00      1006\n",
      "\n",
      "    accuracy                           0.63      2739\n",
      "   macro avg       0.32      0.50      0.39      2739\n",
      "weighted avg       0.40      0.63      0.49      2739\n",
      "\n",
      "Accuracy: 0.6327126688572472\n",
      "Precision: 0.0\n",
      "Recall: 0.0\n"
     ]
    },
    {
     "data": {
      "image/png": "[encoded data removed]",
      "text/plain": [
       "<Figure size 432x288 with 2 Axes>"
      ]
     },
     "metadata": {
      "needs_background": "light"
     },
     "output_type": "display_data"
    }
   ],
   "source": [
    "build_logistic_regression_model_one()"
   ]
  },
  {
   "cell_type": "code",
   "execution_count": 18,
   "metadata": {},
   "outputs": [],
   "source": [
    "def build_logistic_regression_model_two():\n",
    "    aapl, amzn, goog, googl, msft, tsla = get_data_split_by_ticker(daily_df)\n",
    "    \n",
    "    current_feature_indices = [6, 7, 8, 9, 10, 11, 12, 14, 15]\n",
    "    \n",
    "    aapl_features = aapl.iloc[:, current_feature_indices]\n",
    "    aapl_rv = aapl.iloc[:, -1]\n",
    "    aapl_combined = aapl_features\n",
    "    aapl_combined[\"rv\"] = aapl_rv\n",
    "    aapl_combined = clean_dataset(aapl_combined)\n",
    "    aapl_rv = aapl_combined.iloc[:, -1]\n",
    "    aapl_features = aapl_combined.iloc[:, :-1]\n",
    "    \n",
    "    amzn_features = amzn.iloc[:, current_feature_indices]\n",
    "    amzn_rv = amzn.iloc[:, -1]\n",
    "    amzn_combined = amzn_features\n",
    "    amzn_combined[\"rv\"] = amzn_rv\n",
    "    amzn_combined = clean_dataset(amzn_combined)\n",
    "    amzn_rv = amzn_combined.iloc[:, -1]\n",
    "    amzn_features = amzn_combined.iloc[:, :-1]\n",
    "\n",
    "\n",
    "    goog_features = goog.iloc[:, current_feature_indices]\n",
    "    goog_rv = goog.iloc[:, -1]\n",
    "    goog_combined = goog_features\n",
    "    goog_combined[\"rv\"] = goog_rv\n",
    "    goog_combined = clean_dataset(goog_combined)\n",
    "    goog_rv = goog_combined.iloc[:, -1]\n",
    "    goog_features = goog_combined.iloc[:, :-1]\n",
    "\n",
    "\n",
    "    googl_features = googl.iloc[:, current_feature_indices]\n",
    "    googl_rv = googl.iloc[:, -1]\n",
    "    googl_combined = googl_features\n",
    "    googl_combined[\"rv\"] = googl_rv\n",
    "    googl_combined = clean_dataset(googl_combined)\n",
    "    googl_rv = googl_combined.iloc[:, -1]\n",
    "    googl_features = googl_combined.iloc[:, :-1]\n",
    "\n",
    "    msft_features = msft.iloc[:, current_feature_indices]\n",
    "    msft_rv = msft.iloc[:, -1]\n",
    "    msft_combined = msft_features\n",
    "    msft_combined[\"rv\"] = msft_rv\n",
    "    msft_combined = clean_dataset(msft_combined)\n",
    "    msft_rv = msft_combined.iloc[:, -1]\n",
    "    msft_features = msft_combined.iloc[:, :-1]\n",
    "\n",
    "\n",
    "    tsla_features = tsla.iloc[:, current_feature_indices]\n",
    "    tsla_rv = tsla.iloc[:, -1]\n",
    "    tsla_combined = tsla_features\n",
    "    tsla_combined[\"rv\"] = tsla_rv\n",
    "    tsla_combined = clean_dataset(tsla_combined)\n",
    "    tsla_rv = tsla_combined.iloc[:, -1]\n",
    "    tsla_features = tsla_combined.iloc[:, :-1]  \n",
    "    \n",
    "    X_train_aapl, X_test_aapl, y_train_aapl, y_test_aapl = train_test_split(aapl_features, aapl_rv, test_size=0.25, random_state=42)\n",
    "    X_train_amzn, X_test_amzn, y_train_amzn, y_test_amzn = train_test_split(amzn_features, amzn_rv, test_size=0.25, random_state=42)\n",
    "    X_train_goog, X_test_goog, y_train_goog, y_test_goog = train_test_split(goog_features, goog_rv, test_size=0.25, random_state=42)\n",
    "    X_train_googl, X_test_googl, y_train_googl, y_test_googl = train_test_split(googl_features, googl_rv, test_size=0.25, random_state=42)\n",
    "    X_train_msft, X_test_msft, y_train_msft, y_test_msft = train_test_split(msft_features, msft_rv, test_size=0.25, random_state=42)\n",
    "    X_train_tsla, X_test_tsla, y_train_tsla, y_test_tsla = train_test_split(tsla_features, tsla_rv, test_size=0.25, random_state=42)\n",
    "\n",
    "    \n",
    "    reg_aapl = LogisticRegression().fit(X_train_aapl, y_train_aapl)\n",
    "    y_pred_aapl = reg_aapl.predict(X_test_aapl)\n",
    "\n",
    "    reg_amzn = LogisticRegression().fit(X_train_amzn, y_train_amzn)\n",
    "    y_pred_amzn = reg_amzn.predict(X_test_amzn)\n",
    "\n",
    "    reg_goog = LogisticRegression().fit(X_train_goog, y_train_goog)\n",
    "    y_pred_goog = reg_goog.predict(X_test_goog)\n",
    "\n",
    "    reg_googl = LogisticRegression().fit(X_train_googl, y_train_googl)\n",
    "    y_pred_googl = reg_googl.predict(X_test_googl)\n",
    "\n",
    "\n",
    "    reg_msft = LogisticRegression().fit(X_train_msft, y_train_msft)\n",
    "    y_pred_msft = reg_msft.predict(X_test_msft)\n",
    "\n",
    "    reg_tsla = LogisticRegression().fit(X_train_tsla, y_train_tsla)\n",
    "    y_pred_tsla = reg_tsla.predict(X_test_tsla)\n",
    "\n",
    "\n",
    "    all_ticker_true = pd.concat([y_test_aapl, y_test_amzn, y_test_goog, y_test_googl, y_test_msft, y_test_tsla])\n",
    "    all_ticker_pred = np.concatenate([y_pred_aapl, y_pred_amzn, y_pred_goog, y_pred_googl, y_pred_msft, y_pred_tsla])\n",
    "\n",
    "    \n",
    "    all_ticker_X_test = pd.concat([X_test_aapl, X_test_amzn, X_test_goog, X_test_googl, X_test_msft, X_test_tsla])\n",
    "    \n",
    "    get_classification_metrics(all_ticker_true, all_ticker_pred, all_ticker_X_test)\n"
   ]
  },
  {
   "cell_type": "code",
   "execution_count": 19,
   "metadata": {
    "scrolled": false
   },
   "outputs": [
    {
     "name": "stderr",
     "output_type": "stream",
     "text": [
      "/Library/Frameworks/Python.framework/Versions/3.7/lib/python3.7/site-packages/pandas/core/frame.py:3607: SettingWithCopyWarning: \n",
      "A value is trying to be set on a copy of a slice from a DataFrame.\n",
      "Try using .loc[row_indexer,col_indexer] = value instead\n",
      "\n",
      "See the caveats in the documentation: https://pandas.pydata.org/pandas-docs/stable/user_guide/indexing.html#returning-a-view-versus-a-copy\n",
      "  self._set_item(key, value)\n",
      "/Library/Frameworks/Python.framework/Versions/3.7/lib/python3.7/site-packages/pandas/util/_decorators.py:311: SettingWithCopyWarning: \n",
      "A value is trying to be set on a copy of a slice from a DataFrame\n",
      "\n",
      "See the caveats in the documentation: https://pandas.pydata.org/pandas-docs/stable/user_guide/indexing.html#returning-a-view-versus-a-copy\n",
      "  return func(*args, **kwargs)\n",
      "/Library/Frameworks/Python.framework/Versions/3.7/lib/python3.7/site-packages/sklearn/linear_model/logistic.py:432: FutureWarning: Default solver will be changed to 'lbfgs' in 0.22. Specify a solver to silence this warning.\n",
      "  FutureWarning)\n",
      "/Library/Frameworks/Python.framework/Versions/3.7/lib/python3.7/site-packages/sklearn/linear_model/logistic.py:432: FutureWarning: Default solver will be changed to 'lbfgs' in 0.22. Specify a solver to silence this warning.\n",
      "  FutureWarning)\n",
      "/Library/Frameworks/Python.framework/Versions/3.7/lib/python3.7/site-packages/sklearn/linear_model/logistic.py:432: FutureWarning: Default solver will be changed to 'lbfgs' in 0.22. Specify a solver to silence this warning.\n",
      "  FutureWarning)\n",
      "/Library/Frameworks/Python.framework/Versions/3.7/lib/python3.7/site-packages/sklearn/linear_model/logistic.py:432: FutureWarning: Default solver will be changed to 'lbfgs' in 0.22. Specify a solver to silence this warning.\n",
      "  FutureWarning)\n",
      "/Library/Frameworks/Python.framework/Versions/3.7/lib/python3.7/site-packages/sklearn/linear_model/logistic.py:432: FutureWarning: Default solver will be changed to 'lbfgs' in 0.22. Specify a solver to silence this warning.\n",
      "  FutureWarning)\n",
      "/Library/Frameworks/Python.framework/Versions/3.7/lib/python3.7/site-packages/sklearn/linear_model/logistic.py:432: FutureWarning: Default solver will be changed to 'lbfgs' in 0.22. Specify a solver to silence this warning.\n",
      "  FutureWarning)\n",
      "/Library/Frameworks/Python.framework/Versions/3.7/lib/python3.7/site-packages/sklearn/metrics/classification.py:1437: UndefinedMetricWarning: Precision and F-score are ill-defined and being set to 0.0 in labels with no predicted samples.\n",
      "  'precision', 'predicted', average, warn_for)\n",
      "/Library/Frameworks/Python.framework/Versions/3.7/lib/python3.7/site-packages/sklearn/metrics/classification.py:1437: UndefinedMetricWarning: Precision is ill-defined and being set to 0.0 due to no predicted samples.\n",
      "  'precision', 'predicted', average, warn_for)\n"
     ]
    },
    {
     "name": "stdout",
     "output_type": "stream",
     "text": [
      "              precision    recall  f1-score   support\n",
      "\n",
      "         0.0       0.63      1.00      0.77      1716\n",
      "         1.0       0.00      0.00      0.00      1026\n",
      "\n",
      "    accuracy                           0.63      2742\n",
      "   macro avg       0.31      0.50      0.38      2742\n",
      "weighted avg       0.39      0.63      0.48      2742\n",
      "\n",
      "Accuracy: 0.6258205689277899\n",
      "Precision: 0.0\n",
      "Recall: 0.0\n"
     ]
    },
    {
     "data": {
      "image/png": "[encoded data removed]",
      "text/plain": [
       "<Figure size 432x288 with 2 Axes>"
      ]
     },
     "metadata": {
      "needs_background": "light"
     },
     "output_type": "display_data"
    }
   ],
   "source": [
    "build_logistic_regression_model_two()"
   ]
  },
  {
   "cell_type": "code",
   "execution_count": 20,
   "metadata": {
    "scrolled": true
   },
   "outputs": [],
   "source": [
    "def build_dt_model_one():\n",
    "    current_features_indices = [0, 6, 7, 8, 9, 10, 11, 12, 14, 15]\n",
    "#     current_features_indices = [0, 6, 7, 8, 9, 10, 14]\n",
    "\n",
    "    features = daily_df.iloc[:, current_features_indices]\n",
    "    response_variable = daily_df.iloc[:, -1]\n",
    "    current_features = pd.get_dummies(features, prefix='ticker')\n",
    "    print(current_features)\n",
    "    \n",
    "    X = current_features\n",
    "    y = response_variable\n",
    "    combined = current_features\n",
    "    combined[\"rv\"] = response_variable\n",
    "    combined = clean_dataset(combined)\n",
    "    current_features, response_variable = combined.iloc[:, :-1], combined.iloc[:, -1]\n",
    "\n",
    "    X_train, X_test, y_train, y_test = train_test_split(current_features, response_variable, test_size=0.25, random_state=42)\n",
    "    ###### Create Decision Tree classifer object\n",
    "    clf = DecisionTreeClassifier(criterion=\"entropy\", max_depth=95)\n",
    "\n",
    "    # Train Decision Tree Classifer\n",
    "    clf = clf.fit(X_train,y_train)\n",
    "\n",
    "    #Predict the response for test dataset\n",
    "    y_pred = clf.predict(X_test)\n",
    "\n",
    "    get_classification_metrics(y_test, y_pred, X_test)\n"
   ]
  },
  {
   "cell_type": "code",
   "execution_count": 21,
   "metadata": {},
   "outputs": [
    {
     "name": "stdout",
     "output_type": "stream",
     "text": [
      "            volume  reaction_num  compound  writer  body  positive  negative  \\\n",
      "0      12267519660          1700  0.149360     144   297       264        33   \n",
      "1      47510530380          2405  0.104502     403   894       740       154   \n",
      "2      17165437710           210  0.237682     128   323       291        32   \n",
      "3      24180415350           870  0.228038     188   455       404        51   \n",
      "4      76603579840          1037  0.136677     483  1193      1003       190   \n",
      "...            ...           ...       ...     ...   ...       ...       ...   \n",
      "10951  12177199421         16595  0.124667     631  1223       955       268   \n",
      "10952   5924312065          6036  0.136459     317   595       455       140   \n",
      "10953   6730815052         10487  0.075163     296   676       476       200   \n",
      "10954  18259240230         15913  0.093479     665  1449      1096       353   \n",
      "10955   8779468380          8443  0.134275     468   853       667       186   \n",
      "\n",
      "       ratio_pos  ratio_neg  ticker_AAPL  ticker_AMZN  ticker_GOOG  \\\n",
      "0       0.888889   0.111111            1            0            0   \n",
      "1       0.827740   0.172260            1            0            0   \n",
      "2       0.900929   0.099071            1            0            0   \n",
      "3       0.887912   0.112088            1            0            0   \n",
      "4       0.840738   0.159262            1            0            0   \n",
      "...          ...        ...          ...          ...          ...   \n",
      "10951   0.780867   0.219133            0            0            0   \n",
      "10952   0.764706   0.235294            0            0            0   \n",
      "10953   0.704142   0.295858            0            0            0   \n",
      "10954   0.756384   0.243616            0            0            0   \n",
      "10955   0.781946   0.218054            0            0            0   \n",
      "\n",
      "       ticker_GOOGL  ticker_MSFT  ticker_TSLA  \n",
      "0                 0            0            0  \n",
      "1                 0            0            0  \n",
      "2                 0            0            0  \n",
      "3                 0            0            0  \n",
      "4                 0            0            0  \n",
      "...             ...          ...          ...  \n",
      "10951             0            0            1  \n",
      "10952             0            0            1  \n",
      "10953             0            0            1  \n",
      "10954             0            0            1  \n",
      "10955             0            0            1  \n",
      "\n",
      "[10956 rows x 15 columns]\n",
      "              precision    recall  f1-score   support\n",
      "\n",
      "         0.0       0.73      0.72      0.73      1733\n",
      "         1.0       0.53      0.55      0.54      1006\n",
      "\n",
      "    accuracy                           0.66      2739\n",
      "   macro avg       0.63      0.63      0.63      2739\n",
      "weighted avg       0.66      0.66      0.66      2739\n",
      "\n",
      "Accuracy: 0.6568090543994158\n",
      "Precision: 0.5319148936170213\n",
      "Recall: 0.5467196819085487\n"
     ]
    },
    {
     "data": {
      "image/png": "[encoded data removed]",
      "text/plain": [
       "<Figure size 432x288 with 2 Axes>"
      ]
     },
     "metadata": {
      "needs_background": "light"
     },
     "output_type": "display_data"
    }
   ],
   "source": [
    "build_dt_model_one()"
   ]
  },
  {
   "cell_type": "code",
   "execution_count": 25,
   "metadata": {},
   "outputs": [],
   "source": [
    "def build_dt_model_two():\n",
    "    aapl, amzn, goog, googl, msft, tsla = get_data_split_by_ticker(daily_df)\n",
    "    \n",
    "    current_feature_indices = [6, 7, 8, 9, 10, 14]\n",
    "#     current_feature_indices = [6, 7, 8, 9, 10, 11, 12, 14, 15]\n",
    "\n",
    "\n",
    "    aapl_features = aapl.iloc[:, current_feature_indices]\n",
    "    aapl_rv = aapl.iloc[:, -1]\n",
    "    aapl_combined = aapl_features\n",
    "    aapl_combined[\"rv\"] = aapl_rv\n",
    "    aapl_combined = clean_dataset(aapl_combined)\n",
    "    aapl_rv = aapl_combined.iloc[:, -1]\n",
    "    aapl_features = aapl_combined.iloc[:, :-1]\n",
    "    \n",
    "    amzn_features = amzn.iloc[:, current_feature_indices]\n",
    "    amzn_rv = amzn.iloc[:, -1]\n",
    "    amzn_combined = amzn_features\n",
    "    amzn_combined[\"rv\"] = amzn_rv\n",
    "    amzn_combined = clean_dataset(amzn_combined)\n",
    "    amzn_rv = amzn_combined.iloc[:, -1]\n",
    "    amzn_features = amzn_combined.iloc[:, :-1]\n",
    "\n",
    "\n",
    "    goog_features = goog.iloc[:, current_feature_indices]\n",
    "    goog_rv = goog.iloc[:, -1]\n",
    "    goog_combined = goog_features\n",
    "    goog_combined[\"rv\"] = goog_rv\n",
    "    goog_combined = clean_dataset(goog_combined)\n",
    "    goog_rv = goog_combined.iloc[:, -1]\n",
    "    goog_features = goog_combined.iloc[:, :-1]\n",
    "\n",
    "\n",
    "    googl_features = googl.iloc[:, current_feature_indices]\n",
    "    googl_rv = googl.iloc[:, -1]\n",
    "    googl_combined = googl_features\n",
    "    googl_combined[\"rv\"] = googl_rv\n",
    "    googl_combined = clean_dataset(googl_combined)\n",
    "    googl_rv = googl_combined.iloc[:, -1]\n",
    "    googl_features = googl_combined.iloc[:, :-1]\n",
    "\n",
    "    msft_features = msft.iloc[:, current_feature_indices]\n",
    "    msft_rv = msft.iloc[:, -1]\n",
    "    msft_combined = msft_features\n",
    "    msft_combined[\"rv\"] = msft_rv\n",
    "    msft_combined = clean_dataset(msft_combined)\n",
    "    msft_rv = msft_combined.iloc[:, -1]\n",
    "    msft_features = msft_combined.iloc[:, :-1]\n",
    "\n",
    "\n",
    "    tsla_features = tsla.iloc[:, current_feature_indices]\n",
    "    tsla_rv = tsla.iloc[:, -1]\n",
    "    tsla_combined = tsla_features\n",
    "    tsla_combined[\"rv\"] = tsla_rv\n",
    "    tsla_combined = clean_dataset(tsla_combined)\n",
    "    tsla_rv = tsla_combined.iloc[:, -1]\n",
    "    tsla_features = tsla_combined.iloc[:, :-1]  \n",
    "    \n",
    "    X_train_aapl, X_test_aapl, y_train_aapl, y_test_aapl = train_test_split(aapl_features, aapl_rv, test_size=0.25, random_state=42)\n",
    "    X_train_amzn, X_test_amzn, y_train_amzn, y_test_amzn = train_test_split(amzn_features, amzn_rv, test_size=0.25, random_state=42)\n",
    "    X_train_goog, X_test_goog, y_train_goog, y_test_goog = train_test_split(goog_features, goog_rv, test_size=0.25, random_state=42)\n",
    "    X_train_googl, X_test_googl, y_train_googl, y_test_googl = train_test_split(googl_features, googl_rv, test_size=0.25, random_state=42)\n",
    "    X_train_msft, X_test_msft, y_train_msft, y_test_msft = train_test_split(msft_features, msft_rv, test_size=0.25, random_state=42)\n",
    "    X_train_tsla, X_test_tsla, y_train_tsla, y_test_tsla = train_test_split(tsla_features, tsla_rv, test_size=0.25, random_state=42)\n",
    "\n",
    "    \n",
    "    dt_aapl = DecisionTreeClassifier(criterion=\"entropy\", max_depth=95).fit(X_train_aapl, y_train_aapl)\n",
    "    y_pred_aapl = dt_aapl.predict(X_test_aapl)\n",
    "\n",
    "    dt_amzn = DecisionTreeClassifier(criterion=\"entropy\", max_depth=95).fit(X_train_amzn, y_train_amzn)\n",
    "    y_pred_amzn = dt_amzn.predict(X_test_amzn)\n",
    "\n",
    "    dt_goog = DecisionTreeClassifier(criterion=\"entropy\", max_depth=95).fit(X_train_goog, y_train_goog)\n",
    "    y_pred_goog = dt_goog.predict(X_test_goog)\n",
    "\n",
    "    dt_googl = DecisionTreeClassifier(criterion=\"entropy\", max_depth=95).fit(X_train_googl, y_train_googl)\n",
    "    y_pred_googl = dt_googl.predict(X_test_googl)\n",
    "\n",
    "\n",
    "    dt_msft = DecisionTreeClassifier(criterion=\"entropy\", max_depth=95).fit(X_train_msft, y_train_msft)\n",
    "    y_pred_msft = dt_msft.predict(X_test_msft)\n",
    "\n",
    "    dt_tsla = DecisionTreeClassifier(criterion=\"entropy\", max_depth=95).fit(X_train_tsla, y_train_tsla)\n",
    "    y_pred_tsla = dt_tsla.predict(X_test_tsla)\n",
    "\n",
    "\n",
    "    all_ticker_true = pd.concat([y_test_aapl, y_test_amzn, y_test_goog, y_test_googl, y_test_msft, y_test_tsla])\n",
    "    all_ticker_pred = np.concatenate([y_pred_aapl, y_pred_amzn, y_pred_goog, y_pred_googl, y_pred_msft, y_pred_tsla])\n",
    "\n",
    "    \n",
    "    all_ticker_X_test = pd.concat([X_test_aapl, X_test_amzn, X_test_goog, X_test_googl, X_test_msft, X_test_tsla])\n",
    "    \n",
    "    get_classification_metrics(all_ticker_true, all_ticker_pred, all_ticker_X_test)\n"
   ]
  },
  {
   "cell_type": "code",
   "execution_count": 26,
   "metadata": {},
   "outputs": [
    {
     "name": "stderr",
     "output_type": "stream",
     "text": [
      "/Library/Frameworks/Python.framework/Versions/3.7/lib/python3.7/site-packages/pandas/core/frame.py:3607: SettingWithCopyWarning: \n",
      "A value is trying to be set on a copy of a slice from a DataFrame.\n",
      "Try using .loc[row_indexer,col_indexer] = value instead\n",
      "\n",
      "See the caveats in the documentation: https://pandas.pydata.org/pandas-docs/stable/user_guide/indexing.html#returning-a-view-versus-a-copy\n",
      "  self._set_item(key, value)\n",
      "/Library/Frameworks/Python.framework/Versions/3.7/lib/python3.7/site-packages/pandas/util/_decorators.py:311: SettingWithCopyWarning: \n",
      "A value is trying to be set on a copy of a slice from a DataFrame\n",
      "\n",
      "See the caveats in the documentation: https://pandas.pydata.org/pandas-docs/stable/user_guide/indexing.html#returning-a-view-versus-a-copy\n",
      "  return func(*args, **kwargs)\n"
     ]
    },
    {
     "name": "stdout",
     "output_type": "stream",
     "text": [
      "              precision    recall  f1-score   support\n",
      "\n",
      "         0.0       0.74      0.76      0.75      1716\n",
      "         1.0       0.58      0.55      0.57      1026\n",
      "\n",
      "    accuracy                           0.68      2742\n",
      "   macro avg       0.66      0.66      0.66      2742\n",
      "weighted avg       0.68      0.68      0.68      2742\n",
      "\n",
      "Accuracy: 0.6812545587162655\n",
      "Precision: 0.5772357723577236\n",
      "Recall: 0.5536062378167641\n"
     ]
    },
    {
     "data": {
      "image/png": "[encoded data removed]",
      "text/plain": [
       "<Figure size 432x288 with 2 Axes>"
      ]
     },
     "metadata": {
      "needs_background": "light"
     },
     "output_type": "display_data"
    }
   ],
   "source": [
    "build_dt_model_two()"
   ]
  },
  {
   "cell_type": "code",
   "execution_count": 24,
   "metadata": {},
   "outputs": [],
   "source": [
    "# NEXT STEPS: \n",
    "# - hyperparameter tuning\n",
    "# - operationalization\n",
    "# - add in S&P 500 data"
   ]
  }
 ],
 "metadata": {
  "kernelspec": {
   "display_name": "Python 3",
   "language": "python",
   "name": "python3"
  },
  "language_info": {
   "codemirror_mode": {
    "name": "ipython",
    "version": 3
   },
   "file_extension": ".py",
   "mimetype": "text/x-python",
   "name": "python",
   "nbconvert_exporter": "python",
   "pygments_lexer": "ipython3",
   "version": "3.7.4"
  }
 },
 "nbformat": 4,
 "nbformat_minor": 2
}
